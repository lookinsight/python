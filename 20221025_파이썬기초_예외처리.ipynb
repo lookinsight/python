{
 "cells": [
  {
   "cell_type": "markdown",
   "metadata": {},
   "source": [
    "# 에러와 예외 \n",
    "\n",
    "### 에러는 물리적인 이유로 발생하는 (인터넷 안잡고 접속하기.. 등) 것이고\n",
    "\n",
    "### 예외는 논리적인 이유로 발생하는 것\n",
    "\n",
    "     - 예외가 발생하면 코드가 그 즉시 정지되어 다음 로직으로 진행할 수 없다. \n",
    "       그러나 크롤링 등을 하다보면 종종 모종의 이유로 특정 단계에서 발생한 예외를 무시하고 \n",
    "       다음단계로 넘어가야 할 수 있기 때문에 이에 대해 사용하는 \n",
    "       'try ~ except' 구문을 배워야 함"
   ]
  },
  {
   "cell_type": "code",
   "execution_count": 1,
   "metadata": {},
   "outputs": [
    {
     "ename": "TypeError",
     "evalue": "unsupported operand type(s) for +: 'int' and 'str'",
     "output_type": "error",
     "traceback": [
      "\u001b[1;31m---------------------------------------------------------------------------\u001b[0m",
      "\u001b[1;31mTypeError\u001b[0m                                 Traceback (most recent call last)",
      "\u001b[1;32mc:\\playpython\\파이썬기초\\20221025_파이썬기초_예외처리.ipynb 셀 2\u001b[0m in \u001b[0;36m<cell line: 2>\u001b[1;34m()\u001b[0m\n\u001b[0;32m      <a href='vscode-notebook-cell:/c%3A/playpython/%ED%8C%8C%EC%9D%B4%EC%8D%AC%EA%B8%B0%EC%B4%88/20221025_%ED%8C%8C%EC%9D%B4%EC%8D%AC%EA%B8%B0%EC%B4%88_%EC%98%88%EC%99%B8%EC%B2%98%EB%A6%AC.ipynb#W1sZmlsZQ%3D%3D?line=0'>1</a>\u001b[0m \u001b[39m# 에러 상황 (문법이 틀렸거나 틀린 구문을 사용함) \u001b[39;00m\n\u001b[1;32m----> <a href='vscode-notebook-cell:/c%3A/playpython/%ED%8C%8C%EC%9D%B4%EC%8D%AC%EA%B8%B0%EC%B4%88/20221025_%ED%8C%8C%EC%9D%B4%EC%8D%AC%EA%B8%B0%EC%B4%88_%EC%98%88%EC%99%B8%EC%B2%98%EB%A6%AC.ipynb#W1sZmlsZQ%3D%3D?line=1'>2</a>\u001b[0m \u001b[39mprint\u001b[39m(\u001b[39m1\u001b[39;49m \u001b[39m+\u001b[39;49m \u001b[39m'\u001b[39;49m\u001b[39m가나다\u001b[39;49m\u001b[39m'\u001b[39;49m)\n",
      "\u001b[1;31mTypeError\u001b[0m: unsupported operand type(s) for +: 'int' and 'str'"
     ]
    }
   ],
   "source": [
    "# 에러 상황 (문법이 틀렸거나 틀린 구문을 사용함) \n",
    "print(1 + '가나다') "
   ]
  },
  {
   "cell_type": "code",
   "execution_count": 2,
   "metadata": {},
   "outputs": [
    {
     "ename": "NameError",
     "evalue": "name 'ᅵᄆᄂ아러ᅵ아' is not defined",
     "output_type": "error",
     "traceback": [
      "\u001b[1;31m---------------------------------------------------------------------------\u001b[0m",
      "\u001b[1;31mNameError\u001b[0m                                 Traceback (most recent call last)",
      "\u001b[1;32mc:\\playpython\\파이썬기초\\20221025_파이썬기초_예외처리.ipynb 셀 3\u001b[0m in \u001b[0;36m<cell line: 1>\u001b[1;34m()\u001b[0m\n\u001b[1;32m----> <a href='vscode-notebook-cell:/c%3A/playpython/%ED%8C%8C%EC%9D%B4%EC%8D%AC%EA%B8%B0%EC%B4%88/20221025_%ED%8C%8C%EC%9D%B4%EC%8D%AC%EA%B8%B0%EC%B4%88_%EC%98%88%EC%99%B8%EC%B2%98%EB%A6%AC.ipynb#W2sZmlsZQ%3D%3D?line=0'>1</a>\u001b[0m ㅣㅁㄴ아러ㅣ아\n",
      "\u001b[1;31mNameError\u001b[0m: name 'ᅵᄆᄂ아러ᅵ아' is not defined"
     ]
    }
   ],
   "source": [
    "ㅣㅁㄴ아러ㅣ아"
   ]
  },
  {
   "cell_type": "code",
   "execution_count": 3,
   "metadata": {},
   "outputs": [
    {
     "ename": "SyntaxError",
     "evalue": "EOL while scanning string literal (911665148.py, line 1)",
     "output_type": "error",
     "traceback": [
      "\u001b[1;36m  Input \u001b[1;32mIn [3]\u001b[1;36m\u001b[0m\n\u001b[1;33m    'dlkflsjf\u001b[0m\n\u001b[1;37m             ^\u001b[0m\n\u001b[1;31mSyntaxError\u001b[0m\u001b[1;31m:\u001b[0m EOL while scanning string literal\n"
     ]
    }
   ],
   "source": [
    "'dlkflsjf"
   ]
  },
  {
   "cell_type": "code",
   "execution_count": 4,
   "metadata": {},
   "outputs": [
    {
     "name": "stdout",
     "output_type": "stream",
     "text": [
      "1가나다\n"
     ]
    }
   ],
   "source": [
    "print(str(1) + '가나다') "
   ]
  },
  {
   "cell_type": "code",
   "execution_count": 5,
   "metadata": {},
   "outputs": [
    {
     "ename": "ValueError",
     "evalue": "invalid literal for int() with base 10: '가나다'",
     "output_type": "error",
     "traceback": [
      "\u001b[1;31m---------------------------------------------------------------------------\u001b[0m",
      "\u001b[1;31mValueError\u001b[0m                                Traceback (most recent call last)",
      "\u001b[1;32mc:\\playpython\\파이썬기초\\20221025_파이썬기초_예외처리.ipynb 셀 6\u001b[0m in \u001b[0;36m<cell line: 1>\u001b[1;34m()\u001b[0m\n\u001b[1;32m----> <a href='vscode-notebook-cell:/c%3A/playpython/%ED%8C%8C%EC%9D%B4%EC%8D%AC%EA%B8%B0%EC%B4%88/20221025_%ED%8C%8C%EC%9D%B4%EC%8D%AC%EA%B8%B0%EC%B4%88_%EC%98%88%EC%99%B8%EC%B2%98%EB%A6%AC.ipynb#W5sZmlsZQ%3D%3D?line=0'>1</a>\u001b[0m \u001b[39mprint\u001b[39m(\u001b[39mstr\u001b[39m(\u001b[39m1\u001b[39m) \u001b[39m+\u001b[39m \u001b[39mint\u001b[39;49m(\u001b[39m'\u001b[39;49m\u001b[39m가나다\u001b[39;49m\u001b[39m'\u001b[39;49m))\n",
      "\u001b[1;31mValueError\u001b[0m: invalid literal for int() with base 10: '가나다'"
     ]
    }
   ],
   "source": [
    "print(str(1) + int('가나다')) "
   ]
  },
  {
   "cell_type": "code",
   "execution_count": 6,
   "metadata": {},
   "outputs": [
    {
     "ename": "ZeroDivisionError",
     "evalue": "division by zero",
     "output_type": "error",
     "traceback": [
      "\u001b[1;31m---------------------------------------------------------------------------\u001b[0m",
      "\u001b[1;31mZeroDivisionError\u001b[0m                         Traceback (most recent call last)",
      "\u001b[1;32mc:\\playpython\\파이썬기초\\20221025_파이썬기초_예외처리.ipynb 셀 7\u001b[0m in \u001b[0;36m<cell line: 2>\u001b[1;34m()\u001b[0m\n\u001b[0;32m      <a href='vscode-notebook-cell:/c%3A/playpython/%ED%8C%8C%EC%9D%B4%EC%8D%AC%EA%B8%B0%EC%B4%88/20221025_%ED%8C%8C%EC%9D%B4%EC%8D%AC%EA%B8%B0%EC%B4%88_%EC%98%88%EC%99%B8%EC%B2%98%EB%A6%AC.ipynb#W6sZmlsZQ%3D%3D?line=0'>1</a>\u001b[0m \u001b[39m# 예외 사항: 문법도 맞고 논리적으로도 맞지만 연산이 불가능한 경우 \u001b[39;00m\n\u001b[1;32m----> <a href='vscode-notebook-cell:/c%3A/playpython/%ED%8C%8C%EC%9D%B4%EC%8D%AC%EA%B8%B0%EC%B4%88/20221025_%ED%8C%8C%EC%9D%B4%EC%8D%AC%EA%B8%B0%EC%B4%88_%EC%98%88%EC%99%B8%EC%B2%98%EB%A6%AC.ipynb#W6sZmlsZQ%3D%3D?line=1'>2</a>\u001b[0m \u001b[39m2\u001b[39;49m \u001b[39m/\u001b[39;49m \u001b[39m0\u001b[39;49m\n",
      "\u001b[1;31mZeroDivisionError\u001b[0m: division by zero"
     ]
    }
   ],
   "source": [
    "# 예외 사항: 문법도 맞고 논리적으로도 맞지만 연산이 불가능한 경우 \n",
    "2 / 0"
   ]
  },
  {
   "cell_type": "code",
   "execution_count": 15,
   "metadata": {},
   "outputs": [
    {
     "name": "stdout",
     "output_type": "stream",
     "text": [
      "2.5\n",
      "연산이 완전히 끝났습니다.\n"
     ]
    }
   ],
   "source": [
    "# 예외 상황에 대한 처리 1 : if 문을 통한 검사 \n",
    "a = int(input('나눗셈에 사용할 분자를 입력해주세요.')) \n",
    "b = int(input('나눗셈에 사용할 분모를 입력해주세요')) \n",
    "# 위 숫자를 검사해서 나눗셈이 가능하면 값을 콘솔에 띄우고 \n",
    "# 나눗셈이 불가능한 경우 print('0으로 나눌 수 없습니다.') 가 나오도록 아래 print(a/b) 고치기 \n",
    "if b != 0:\n",
    "    print(a / b) \n",
    "else:\n",
    "    print('0으로 나눌 수 없습니다')\n",
    "print('연산이 완전히 끝났습니다.') \n",
    "\n",
    "# if 문은 input 에 문자를 넣으면 error"
   ]
  },
  {
   "cell_type": "code",
   "execution_count": 3,
   "metadata": {},
   "outputs": [
    {
     "ename": "ValueError",
     "evalue": "invalid literal for int() with base 10: 'f'",
     "output_type": "error",
     "traceback": [
      "\u001b[1;31m---------------------------------------------------------------------------\u001b[0m",
      "\u001b[1;31mValueError\u001b[0m                                Traceback (most recent call last)",
      "\u001b[1;32mc:\\playpython\\python_basic\\20221025_파이썬기초_예외처리.ipynb 셀 9\u001b[0m in \u001b[0;36m<cell line: 6>\u001b[1;34m()\u001b[0m\n\u001b[0;32m      <a href='vscode-notebook-cell:/c%3A/playpython/python_basic/20221025_%ED%8C%8C%EC%9D%B4%EC%8D%AC%EA%B8%B0%EC%B4%88_%EC%98%88%EC%99%B8%EC%B2%98%EB%A6%AC.ipynb#X11sZmlsZQ%3D%3D?line=0'>1</a>\u001b[0m \u001b[39m# try ~ except \u001b[39;00m\n\u001b[0;32m      <a href='vscode-notebook-cell:/c%3A/playpython/python_basic/20221025_%ED%8C%8C%EC%9D%B4%EC%8D%AC%EA%B8%B0%EC%B4%88_%EC%98%88%EC%99%B8%EC%B2%98%EB%A6%AC.ipynb#X11sZmlsZQ%3D%3D?line=1'>2</a>\u001b[0m \u001b[39m# try 에는 예외가 발생할지도 모르는 구문을 넣는다 \u001b[39;00m\n\u001b[0;32m      <a href='vscode-notebook-cell:/c%3A/playpython/python_basic/20221025_%ED%8C%8C%EC%9D%B4%EC%8D%AC%EA%B8%B0%EC%B4%88_%EC%98%88%EC%99%B8%EC%B2%98%EB%A6%AC.ipynb#X11sZmlsZQ%3D%3D?line=2'>3</a>\u001b[0m \u001b[39m# except 에는 예외가 발생해서 구문이 멈췄을 때 이어서 실행할 내용을 적습니다. \u001b[39;00m\n\u001b[0;32m      <a href='vscode-notebook-cell:/c%3A/playpython/python_basic/20221025_%ED%8C%8C%EC%9D%B4%EC%8D%AC%EA%B8%B0%EC%B4%88_%EC%98%88%EC%99%B8%EC%B2%98%EB%A6%AC.ipynb#X11sZmlsZQ%3D%3D?line=4'>5</a>\u001b[0m a \u001b[39m=\u001b[39m \u001b[39mint\u001b[39m(\u001b[39minput\u001b[39m(\u001b[39m'\u001b[39m\u001b[39m나눗셈에 사용할 분자를 입력해주세요.\u001b[39m\u001b[39m'\u001b[39m)) \n\u001b[1;32m----> <a href='vscode-notebook-cell:/c%3A/playpython/python_basic/20221025_%ED%8C%8C%EC%9D%B4%EC%8D%AC%EA%B8%B0%EC%B4%88_%EC%98%88%EC%99%B8%EC%B2%98%EB%A6%AC.ipynb#X11sZmlsZQ%3D%3D?line=5'>6</a>\u001b[0m b \u001b[39m=\u001b[39m \u001b[39mint\u001b[39;49m(\u001b[39minput\u001b[39;49m(\u001b[39m'\u001b[39;49m\u001b[39m나눗셈에 사용할 분모를 입력해주세요\u001b[39;49m\u001b[39m'\u001b[39;49m)) \n\u001b[0;32m      <a href='vscode-notebook-cell:/c%3A/playpython/python_basic/20221025_%ED%8C%8C%EC%9D%B4%EC%8D%AC%EA%B8%B0%EC%B4%88_%EC%98%88%EC%99%B8%EC%B2%98%EB%A6%AC.ipynb#X11sZmlsZQ%3D%3D?line=6'>7</a>\u001b[0m \u001b[39mtry\u001b[39;00m:\n\u001b[0;32m      <a href='vscode-notebook-cell:/c%3A/playpython/python_basic/20221025_%ED%8C%8C%EC%9D%B4%EC%8D%AC%EA%B8%B0%EC%B4%88_%EC%98%88%EC%99%B8%EC%B2%98%EB%A6%AC.ipynb#X11sZmlsZQ%3D%3D?line=7'>8</a>\u001b[0m     \u001b[39mprint\u001b[39m(a\u001b[39m/\u001b[39mb) \u001b[39m# b에 0이 들어오면 except 로 자동 이동 \u001b[39;00m\n",
      "\u001b[1;31mValueError\u001b[0m: invalid literal for int() with base 10: 'f'"
     ]
    }
   ],
   "source": [
    "# try ~ except \n",
    "# try 에는 예외가 발생할지도 모르는 구문을 넣는다 \n",
    "# except 에는 예외가 발생해서 구문이 멈췄을 때 이어서 실행할 내용을 적습니다. \n",
    "\n",
    "a = int(input('나눗셈에 사용할 분자를 입력해주세요.')) \n",
    "b = int(input('나눗셈에 사용할 분모를 입력해주세요')) \n",
    "try:\n",
    "    print(a/b) # b에 0이 들어오면 except 로 자동 이동 \n",
    "except: \n",
    "    print('분모로 0을 넣으면 안됩니다.') \n",
    "print('연산이 완전히 끝났습니다.') "
   ]
  },
  {
   "cell_type": "code",
   "execution_count": 4,
   "metadata": {},
   "outputs": [
    {
     "name": "stdout",
     "output_type": "stream",
     "text": [
      "분모로 0을 넣거나, input에 숫자가 아닌 문자를 넣으면 안됩니다. \n",
      "연산이 완전히 끝났습니다.\n"
     ]
    }
   ],
   "source": [
    "# try ~ except 구문이 좋은 점\n",
    "# try 안에 집어 넣으면 어떤 종류의 error 도 커버 됨\n",
    "# 단, 문법이 틀리면 안됨. 논리적인 문제를 예외처리\n",
    "try:\n",
    "    a = int(input('나눗셈에 사용할 분자를 입력해주세요.')) \n",
    "    b = int(input('나눗셈에 사용할 분모를 입력해주세요')) \n",
    "    print(a/b) # b에 0이 들어오면 except 로 자동 이동 \n",
    "except: \n",
    "    print('분모로 0을 넣거나, input에 숫자가 아닌 문자를 넣으면 안됩니다. ') \n",
    "print('연산이 완전히 끝났습니다.') "
   ]
  },
  {
   "cell_type": "code",
   "execution_count": null,
   "metadata": {},
   "outputs": [],
   "source": []
  },
  {
   "cell_type": "code",
   "execution_count": null,
   "metadata": {},
   "outputs": [],
   "source": []
  },
  {
   "cell_type": "code",
   "execution_count": null,
   "metadata": {},
   "outputs": [],
   "source": []
  },
  {
   "cell_type": "code",
   "execution_count": null,
   "metadata": {},
   "outputs": [],
   "source": []
  },
  {
   "cell_type": "code",
   "execution_count": null,
   "metadata": {},
   "outputs": [],
   "source": []
  },
  {
   "cell_type": "code",
   "execution_count": null,
   "metadata": {},
   "outputs": [],
   "source": []
  },
  {
   "cell_type": "code",
   "execution_count": null,
   "metadata": {},
   "outputs": [],
   "source": []
  },
  {
   "cell_type": "code",
   "execution_count": null,
   "metadata": {},
   "outputs": [],
   "source": []
  }
 ],
 "metadata": {
  "kernelspec": {
   "display_name": "Python 3.9.12 ('base')",
   "language": "python",
   "name": "python3"
  },
  "language_info": {
   "codemirror_mode": {
    "name": "ipython",
    "version": 3
   },
   "file_extension": ".py",
   "mimetype": "text/x-python",
   "name": "python",
   "nbconvert_exporter": "python",
   "pygments_lexer": "ipython3",
   "version": "3.9.12"
  },
  "orig_nbformat": 4,
  "vscode": {
   "interpreter": {
    "hash": "ca71aff40853dd846130b67975d07637ec6294bee047a07657cfc9075e3162be"
   }
  }
 },
 "nbformat": 4,
 "nbformat_minor": 2
}
