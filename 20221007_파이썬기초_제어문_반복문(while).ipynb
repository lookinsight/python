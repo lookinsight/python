{
 "cells": [
  {
   "cell_type": "markdown",
   "metadata": {},
   "source": [
    "## 2-1. while 반복문(+조건문)\n",
    "\n",
    "> 주어진 조건을 판단하여 조건이 참일 동안 특정한 명령문을 반복적으로 수행하는 것\n",
    "\n",
    "▶ 기본 문법\n",
    "\n",
    "        > while 조건문:\n",
    "\n",
    "           - 반복적으로 수행할 문장1\n",
    "           - 반복적으로 수행할 문장2\n",
    "            ...\n",
    "\n",
    "▶ 주의해야할 문법 :\n",
    "\n",
    "- 조건문 뒤에 반드시 콜론(:)을 써야 한다.\n",
    "\n",
    "- 조건문이 있는 문장 하위에 속하는 실행문장들은 반드시 한 번 들여쓰기 되어야 한다. ( 자동 / tab / space 4번)\n",
    "\n",
    "- 무한반복문에 대한 이해와 관련된 키워드(break, continue 등)를 활용할 수 있어야 한다.\n",
    "\n",
    "▶ 무한반복문 : 조건문이 무조건 참인 경우, while 반복문은 무한히 반복된다.\n",
    "\n",
    "- break 키워드 : 특정 조건을 만족할 경우 제어문을 빠져나가 반복을 종료한다.\n",
    "\n",
    "- continue : 특정 조건을 만족할 경우 반복문을 종료하는 것이 아니라 반복문의 시작으로 돌아간다. (참고) pass"
   ]
  },
  {
   "cell_type": "code",
   "execution_count": 1,
   "metadata": {},
   "outputs": [
    {
     "name": "stdout",
     "output_type": "stream",
     "text": [
      "1\n",
      "Hello World\n",
      "2\n",
      "Hello World\n",
      "3\n",
      "Hello World\n"
     ]
    }
   ],
   "source": [
    "# Hello World 3번 출력\n",
    "loop = 0\n",
    "\n",
    "while loop <= 2:\n",
    "    loop += 1                 # 1만큼 더해서 loop에 다시 저장\n",
    "    print(loop)\n",
    "    print('Hello World')"
   ]
  },
  {
   "cell_type": "code",
   "execution_count": 4,
   "metadata": {},
   "outputs": [
    {
     "name": "stdout",
     "output_type": "stream",
     "text": [
      "무한루프 1\n",
      "2\n",
      "무한루프 2\n",
      "3\n",
      "무한루프 3\n",
      "4\n",
      "무한루프 4\n"
     ]
    }
   ],
   "source": [
    "# while 문의 조건식이 무조건 참으로만 판단되는 경우 무한루프가 된다.\n",
    "# 이 경우 보통 break 문을 조합해 종료 시킨다\n",
    "# a = 1\n",
    "# while True:\n",
    "#     print('무한루프', a)\n",
    "#     a += 1\n",
    "    \n",
    "a = 1\n",
    "while True:                       # while 블록 5줄\n",
    "    print('무한루프', a)\n",
    "    if a > 3:                     # if 블록 2줄\n",
    "        break\n",
    "    a += 1\n",
    "    print(a)"
   ]
  },
  {
   "cell_type": "code",
   "execution_count": 14,
   "metadata": {},
   "outputs": [
    {
     "name": "stdout",
     "output_type": "stream",
     "text": [
      "2\n",
      "3\n",
      "-----\n",
      "3\n",
      "4\n",
      "5\n",
      "-----\n",
      "5\n",
      "6\n"
     ]
    }
   ],
   "source": [
    "# 돌던 바퀴만 실행하고 나머지 스킵하고, 전체 반복문 실행은 유지하고 싶다면 continue를 사용한다.\n",
    "a = 1\n",
    "while a < 6:\n",
    "    a += 1\n",
    "    print(a)\n",
    "    if a % 2 == 0:\n",
    "        continue                     # 여기까지 하고 스킵. 뒤 조건들은 무시하고 다음 반복 while 로\n",
    "    print('-'* 5)\n",
    "    print(a)"
   ]
  },
  {
   "cell_type": "markdown",
   "metadata": {},
   "source": [
    "# 연습문제\n",
    "\n",
    "- 초기식에는 score 변수에 100을 저장하고, 이후 while 문에서 score 가 60점 이상인 경우에만 다시 score에 input() 으로 새 점수를 받고,\n",
    "- 입력 받은 점수들은 리스트 자료형인 score_list 에 저장하는 코드를 작성하라.\n",
    "\n",
    "- 60점 미만의 점수가 score에 저장되면 반복문을 탈출하고\n",
    "- 이후 score_list 에 저장된 점수는 모두 내림차순 정렬해서 보여주면 된다."
   ]
  },
  {
   "cell_type": "code",
   "execution_count": 30,
   "metadata": {},
   "outputs": [
    {
     "name": "stdout",
     "output_type": "stream",
     "text": [
      "[96, 87, 77, 75, 65, 45]\n"
     ]
    }
   ],
   "source": [
    "# 첫 번째 바퀴가 무조건 True 인 경우에만 while 문이 작동하므로 True 가 되도록 적당한 숫자넣기\n",
    "score = 100\n",
    "# score 적재 받을 빈 리스트 선언\n",
    "score_list = []\n",
    "\n",
    "while 60 <= score:                                # 60점 이상이면 while 안에 조건을 수행하기 위해 블록 안으로 가기 위한 조건.\n",
    "    score = int(input('점수를 입력해 주세요'))      # score 변수에 점수 재입력 받기\n",
    "    score_list.append(score)                       # 입력받은 score 적재 > score_list 변수지만 힙(heap) 의 다른 주소(200번지?)를 할당 받아 저장 되는 것. \n",
    "    score_list.sort(reverse = True)                   \n",
    "    if score < 60:\n",
    "        break\n",
    "# score_list.sort(reverse = True)                # 탈출한 후에(들여쓰기 X) 점수 내림차순 정렬    \n",
    "print(score_list)"
   ]
  },
  {
   "cell_type": "code",
   "execution_count": 27,
   "metadata": {},
   "outputs": [
    {
     "name": "stdout",
     "output_type": "stream",
     "text": [
      "[88, 77, 66, 50]\n"
     ]
    }
   ],
   "source": [
    "# 이렇게도 가능\n",
    "score = 100\n",
    "score_list2 = []\n",
    "\n",
    "while score >= 60:\n",
    "    score = int(input('점수를 입력해 주세요. :'))\n",
    "    score_list2.append(score)\n",
    "score_list.sort(reverse = True)\n",
    "print(score_list2)"
   ]
  },
  {
   "cell_type": "code",
   "execution_count": 25,
   "metadata": {},
   "outputs": [
    {
     "name": "stdout",
     "output_type": "stream",
     "text": [
      "[100]\n",
      "[100, 99]\n",
      "[100, 99, 88]\n",
      "[100, 99, 88, 77]\n",
      "[100, 99, 88, 77, 66]\n",
      "[100, 99, 88, 77, 66, 60]\n"
     ]
    }
   ],
   "source": [
    "score = 100\n",
    "score_list = []\n",
    "\n",
    "while 60 <= score:\n",
    "    score = int(input('점수를 입력해 주세요'))\n",
    "    score_list.append(score) \n",
    "    score_list.sort(reverse = True)\n",
    "    if score < 60:\n",
    "        break\n",
    "    \n",
    "    print(score_list)"
   ]
  },
  {
   "cell_type": "code",
   "execution_count": 37,
   "metadata": {},
   "outputs": [],
   "source": [
    "# .sort() 와 .reverse() 와 .count()  등 비교\n",
    "score_test = [2, 7, 5, 8, 10, 3]"
   ]
  },
  {
   "cell_type": "code",
   "execution_count": 33,
   "metadata": {},
   "outputs": [],
   "source": [
    "# 함수 배운 버전 : return 구문 유무\n",
    "# 함수 안배운 버전 : 시뮬레이션(자료 출력)과 즉시 적용(None)의 차이\n",
    "a = 't1, t2, t3'\n"
   ]
  },
  {
   "cell_type": "code",
   "execution_count": 35,
   "metadata": {},
   "outputs": [
    {
     "name": "stdout",
     "output_type": "stream",
     "text": [
      "['t1', ' t2', ' t3']\n"
     ]
    }
   ],
   "source": [
    "# a.split(',')는 시뮬레이션(자료 출력) 되는 녀석이라 print() 쓰면 출려 됨\n",
    "print(a.split(','))"
   ]
  },
  {
   "cell_type": "code",
   "execution_count": 38,
   "metadata": {},
   "outputs": [
    {
     "name": "stdout",
     "output_type": "stream",
     "text": [
      "None\n"
     ]
    }
   ],
   "source": [
    "# 즉시 적용되는 녀석이라 print() 쓰면 None 출력\n",
    "print(score_test.append(4))"
   ]
  },
  {
   "cell_type": "code",
   "execution_count": 39,
   "metadata": {},
   "outputs": [
    {
     "data": {
      "text/plain": [
       "[2, 7, 5, 8, 10, 3, 4]"
      ]
     },
     "execution_count": 39,
     "metadata": {},
     "output_type": "execute_result"
    }
   ],
   "source": [
    "score_test        # 하지만, score_test 에는 적용 됨"
   ]
  },
  {
   "cell_type": "code",
   "execution_count": null,
   "metadata": {},
   "outputs": [],
   "source": []
  },
  {
   "cell_type": "code",
   "execution_count": null,
   "metadata": {},
   "outputs": [],
   "source": []
  },
  {
   "cell_type": "code",
   "execution_count": null,
   "metadata": {},
   "outputs": [],
   "source": []
  },
  {
   "cell_type": "code",
   "execution_count": null,
   "metadata": {},
   "outputs": [],
   "source": []
  },
  {
   "cell_type": "code",
   "execution_count": null,
   "metadata": {},
   "outputs": [],
   "source": []
  },
  {
   "cell_type": "code",
   "execution_count": null,
   "metadata": {},
   "outputs": [],
   "source": []
  },
  {
   "cell_type": "code",
   "execution_count": null,
   "metadata": {},
   "outputs": [],
   "source": []
  },
  {
   "cell_type": "code",
   "execution_count": null,
   "metadata": {},
   "outputs": [],
   "source": []
  },
  {
   "cell_type": "code",
   "execution_count": null,
   "metadata": {},
   "outputs": [],
   "source": []
  },
  {
   "cell_type": "code",
   "execution_count": null,
   "metadata": {},
   "outputs": [],
   "source": []
  },
  {
   "cell_type": "code",
   "execution_count": null,
   "metadata": {},
   "outputs": [],
   "source": []
  },
  {
   "cell_type": "code",
   "execution_count": null,
   "metadata": {},
   "outputs": [],
   "source": []
  },
  {
   "cell_type": "code",
   "execution_count": null,
   "metadata": {},
   "outputs": [],
   "source": []
  },
  {
   "cell_type": "code",
   "execution_count": null,
   "metadata": {},
   "outputs": [],
   "source": []
  },
  {
   "cell_type": "code",
   "execution_count": null,
   "metadata": {},
   "outputs": [],
   "source": []
  }
 ],
 "metadata": {
  "kernelspec": {
   "display_name": "Python 3.9.12 ('base')",
   "language": "python",
   "name": "python3"
  },
  "language_info": {
   "codemirror_mode": {
    "name": "ipython",
    "version": 3
   },
   "file_extension": ".py",
   "mimetype": "text/x-python",
   "name": "python",
   "nbconvert_exporter": "python",
   "pygments_lexer": "ipython3",
   "version": "3.9.12"
  },
  "orig_nbformat": 4,
  "vscode": {
   "interpreter": {
    "hash": "ca71aff40853dd846130b67975d07637ec6294bee047a07657cfc9075e3162be"
   }
  }
 },
 "nbformat": 4,
 "nbformat_minor": 2
}
