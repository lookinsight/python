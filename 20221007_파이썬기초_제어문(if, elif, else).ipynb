{
 "cells": [
  {
   "cell_type": "markdown",
   "metadata": {},
   "source": [
    "# << 제어문 >>\n",
    "\n",
    "## 1. 조건문(if , elif, else)\n",
    "- 주어진 조건을 판단하여 해당 조건이 참일 때와 거짓일 때에 맞는 명령문을 수행하는 것\n",
    "\n",
    "▶ 기본 문법\n",
    "\n",
    "        > if 조건문1 :\n",
    "            - 조건문1이 참일 때 실행할 문장1\n",
    "            - 조건문1이 참일 때 실행할 문장2\n",
    "\n",
    "        > elif 조건문2 :\n",
    "            - (조건문1이 거짓일 때 elif 블럭으로 이동)\n",
    "            - 조건문2가 참일 때 실행할 문장1\n",
    "            - 조건문2가 참일 때 실행할 문장2\n",
    "            - 조건문2가 참일 때 실행할 문장2\n",
    "            \n",
    "        > else :\n",
    "            - 조건문1, 조건문2가 모두 거짓일 때 실행할 문장1\n",
    "            - 조건문1, 조건문2가 모두 거짓일 때 실행할 문장2\n",
    "            \n",
    "        => elif, else는 상황에 따라 생략될 수 있다.\n",
    "\n",
    "▶ 주의해야할 문법 :\n",
    "\n",
    "- 조건문 및 else 뒤에 반드시 콜론(:)을 써야 한다.\n",
    "- 조건문이 있는 문장 하위에 속하는 실행문장들은 반드시 한 번 들여쓰기 되어야 한다. ( 자동 / tab / space 4번)\n",
    "- 각 조건문이 참/거짓일 때 실행되는 문장이 무엇인지 알아야 한다.\n",
    "- else는 조건문을 작성하지 않는다.\n",
    "\n",
    "▶ 조건문 : 참(True)과 거짓(False)으로 구분되는 문장\n",
    "\n",
    "- 비교 연산자를 사용한 조건문 : >, <, >=, <=, ==, !=\n",
    "- 값을 이용한 조건문 : 무조건 참, 무조건 거짓\n",
    "- 논리 연산자를 사용한 조건문 : and, or, not\n",
    "- IN 연산자를 사용한 조건문\n",
    "\n",
    "cf. True vs False\n",
    "     - bool type : True, False 값의 타입    "
   ]
  },
  {
   "cell_type": "markdown",
   "metadata": {},
   "source": [
    "### 1.if ~ else 조건문\n",
    "\n",
    "- 조건식 : 결과가 True 또는 False로 해석될 수 있는 명령어로 구성"
   ]
  },
  {
   "cell_type": "code",
   "execution_count": 7,
   "metadata": {},
   "outputs": [
    {
     "name": "stdout",
     "output_type": "stream",
     "text": [
      "책을 삽니다\n",
      "집에 왔습니다.\n"
     ]
    }
   ],
   "source": [
    "# 가장 기초적인 조건문\n",
    "money = True\n",
    "\n",
    "if money:\n",
    "    print(\"책을 삽니다\")\n",
    "else:                       # else : 그렇지 않으면,\n",
    "    print(\"책을 사지 못했습니다.\")\n",
    "    \n",
    "print(\"집에 왔습니다.\")"
   ]
  },
  {
   "cell_type": "code",
   "execution_count": 8,
   "metadata": {},
   "outputs": [
    {
     "name": "stdout",
     "output_type": "stream",
     "text": [
      "책을 사지 못했습니다.\n",
      "집에 왔습니다\n"
     ]
    }
   ],
   "source": [
    "money = False\n",
    "\n",
    "if money:\n",
    "    print(\"책을 삽니다\")  # money 가 False 조건이기 때문에 if 문 안의 print() 를 출력하지 않음\n",
    "else:\n",
    "    print(\"책을 사지 못했습니다.\")\n",
    "\n",
    "print(\"집에 왔습니다\")    # 하지만, 이 print()문은 if 조건에 들어가 있지 않았기 때문에 money = False 조건에 구애받지 않고 독립적으로 움직임"
   ]
  },
  {
   "cell_type": "code",
   "execution_count": 9,
   "metadata": {},
   "outputs": [
    {
     "ename": "IndentationError",
     "evalue": "expected an indented block (2307377797.py, line 6)",
     "output_type": "error",
     "traceback": [
      "\u001b[1;36m  Input \u001b[1;32mIn [9]\u001b[1;36m\u001b[0m\n\u001b[1;33m    print(\"책을 삽니다\")\u001b[0m\n\u001b[1;37m    ^\u001b[0m\n\u001b[1;31mIndentationError\u001b[0m\u001b[1;31m:\u001b[0m expected an indented block\n"
     ]
    }
   ],
   "source": [
    "# 들여쓰기 오류(IndentationError: expected an indented block)\n",
    "\n",
    "money = True\n",
    "\n",
    "if money:\n",
    "print(\"책을 삽니다\")\n",
    "else:                       # else : 그렇지 않으면,\n",
    "    print(\"책을 사지 못했습니다.\")"
   ]
  },
  {
   "cell_type": "code",
   "execution_count": 14,
   "metadata": {},
   "outputs": [
    {
     "name": "stdout",
     "output_type": "stream",
     "text": [
      "굶습니다.\n"
     ]
    }
   ],
   "source": [
    "# 논리 연산자를 사용한 조건\n",
    "# 아래에 if 문을 활용해서 돈이 8000원 이상이면\n",
    "# '백반을 먹습니다'\n",
    "# 돈이 2000원 미만으로 있으면 \"굶습니다\"추가하기\n",
    "# if, elif 쓰지 않고 추가\n",
    "money = 500                          # stack에 500이 저장됨\n",
    "\n",
    "if (money >= 8000):                   # money 대신 500으로 인식 > 500이 8000보다 작으므로 False 로 인식\n",
    "    print('백반을 먹습니다.')           # 출력 x\n",
    "\n",
    "elif (money >= 2000):                 # money 대신 500으로 인식 > 500이 2000보다 작으므로 False 로 인식\n",
    "    print('컵라면을 먹습니다.')         # 출력 O\n",
    "\n",
    "else:                                 # elif 조건이 True면 else 까지 오지 않음. > elif 조건까지 False 면 여기로 옴\n",
    "    print('굶습니다.')"
   ]
  },
  {
   "cell_type": "code",
   "execution_count": 16,
   "metadata": {},
   "outputs": [
    {
     "name": "stdout",
     "output_type": "stream",
     "text": [
      "컵라면을 먹습니다\n"
     ]
    }
   ],
   "source": [
    "# not 키워드를 이용한 논리연산자 뒤집기\n",
    "money = 4000\n",
    "\n",
    "if not (money > 7000):\n",
    "    print('컵라면을 먹습니다')\n",
    "\n",
    "else:\n",
    "    print('김치볶음밥을 먹습니다.')"
   ]
  },
  {
   "cell_type": "code",
   "execution_count": 22,
   "metadata": {},
   "outputs": [
    {
     "name": "stdout",
     "output_type": "stream",
     "text": [
      "경품이 없습니다.\n"
     ]
    }
   ],
   "source": [
    "# in 키워드를 사용한 조건문\n",
    "reward = ['상범', '상효', '상철']\n",
    "\n",
    "if ('종훔' in reward):\n",
    "    print('경품을 수령하세요.')\n",
    "    \n",
    "if not ('상효' in reward):\n",
    "    print('경품을 수령하세요.')\n",
    "    \n",
    "# 아래 미당첨자는 '경품이 없습니다.' 라고 찍히도록 개선하기\n",
    "\n",
    "# if not ('진수' in reward):\n",
    "#     print('경품이 없습니다.')\n",
    "\n",
    "else:\n",
    "    print('경품이 없습니다.')"
   ]
  },
  {
   "cell_type": "markdown",
   "metadata": {},
   "source": [
    "### 2. elif 조건문\n",
    "\n",
    "- 개수에 제한이 없다.\n",
    "- 여러 개의 조건문이 존재할 경우 각각의 시작 조건은 별도로 작성하지 않아도 자동으로 생성된다.\n",
    "\n",
    "If <조건문1>:\n",
    "\n",
    "    <수행할 문장1>\n",
    "    <수행할 문장2>\n",
    "\n",
    "elif <조건문2>:\n",
    "\n",
    "    <수행할 문장1>\n",
    "    <수행할 문장2>\n",
    "\n",
    "elif <조건문3>:\n",
    "\n",
    "    <수행할 문장1>\n",
    "    <수행할 문장2>\n",
    "... (원하는 만큼 elif문 작성 가능)\n",
    "\n",
    "else:\n",
    "    <수행할 문장1>\n",
    "    <수행할 문장2>"
   ]
  },
  {
   "cell_type": "code",
   "execution_count": 26,
   "metadata": {},
   "outputs": [
    {
     "name": "stdout",
     "output_type": "stream",
     "text": [
      "입력한 정수는 0 입니다.\n"
     ]
    }
   ],
   "source": [
    "# 주어진 정수가 양수인지 음수인지 0인지 판별하는 조건문\n",
    "# 0과 음수를 판별할 수 있도록 코드 완성.\n",
    "\n",
    "inte = int(input('판별할 정수를 넣어주세요'))\n",
    "\n",
    "if (inte > 0):\n",
    "    print('입력한 정수는 양수입니다.')\n",
    "elif (inte == 0):\n",
    "    print('입력한 정수는 0 입니다.')\n",
    "# elif (inte < 0):\n",
    "#     print('입력한 정수는 음수 입니다.')  # elif 2번 써줘도 됨.\n",
    "else:\n",
    "    print('입력한 정수는 음수입니다.')"
   ]
  },
  {
   "cell_type": "code",
   "execution_count": null,
   "metadata": {},
   "outputs": [],
   "source": []
  },
  {
   "cell_type": "code",
   "execution_count": null,
   "metadata": {},
   "outputs": [],
   "source": []
  },
  {
   "cell_type": "code",
   "execution_count": null,
   "metadata": {},
   "outputs": [],
   "source": []
  },
  {
   "cell_type": "code",
   "execution_count": null,
   "metadata": {},
   "outputs": [],
   "source": []
  },
  {
   "cell_type": "code",
   "execution_count": null,
   "metadata": {},
   "outputs": [],
   "source": []
  },
  {
   "cell_type": "code",
   "execution_count": null,
   "metadata": {},
   "outputs": [],
   "source": []
  },
  {
   "cell_type": "code",
   "execution_count": null,
   "metadata": {},
   "outputs": [],
   "source": []
  },
  {
   "cell_type": "code",
   "execution_count": null,
   "metadata": {},
   "outputs": [],
   "source": []
  },
  {
   "cell_type": "code",
   "execution_count": null,
   "metadata": {},
   "outputs": [],
   "source": []
  },
  {
   "cell_type": "code",
   "execution_count": null,
   "metadata": {},
   "outputs": [],
   "source": []
  },
  {
   "cell_type": "code",
   "execution_count": null,
   "metadata": {},
   "outputs": [],
   "source": []
  },
  {
   "cell_type": "code",
   "execution_count": null,
   "metadata": {},
   "outputs": [],
   "source": []
  },
  {
   "cell_type": "code",
   "execution_count": null,
   "metadata": {},
   "outputs": [],
   "source": []
  },
  {
   "cell_type": "code",
   "execution_count": null,
   "metadata": {},
   "outputs": [],
   "source": []
  },
  {
   "cell_type": "code",
   "execution_count": null,
   "metadata": {},
   "outputs": [],
   "source": []
  },
  {
   "cell_type": "code",
   "execution_count": null,
   "metadata": {},
   "outputs": [],
   "source": []
  },
  {
   "cell_type": "code",
   "execution_count": null,
   "metadata": {},
   "outputs": [],
   "source": []
  },
  {
   "cell_type": "code",
   "execution_count": null,
   "metadata": {},
   "outputs": [],
   "source": []
  },
  {
   "cell_type": "code",
   "execution_count": null,
   "metadata": {},
   "outputs": [],
   "source": []
  },
  {
   "cell_type": "code",
   "execution_count": null,
   "metadata": {},
   "outputs": [],
   "source": []
  },
  {
   "cell_type": "code",
   "execution_count": null,
   "metadata": {},
   "outputs": [],
   "source": []
  },
  {
   "cell_type": "code",
   "execution_count": null,
   "metadata": {},
   "outputs": [],
   "source": []
  },
  {
   "cell_type": "code",
   "execution_count": null,
   "metadata": {},
   "outputs": [],
   "source": []
  },
  {
   "cell_type": "code",
   "execution_count": null,
   "metadata": {},
   "outputs": [],
   "source": []
  }
 ],
 "metadata": {
  "kernelspec": {
   "display_name": "Python 3.9.12 ('base')",
   "language": "python",
   "name": "python3"
  },
  "language_info": {
   "codemirror_mode": {
    "name": "ipython",
    "version": 3
   },
   "file_extension": ".py",
   "mimetype": "text/x-python",
   "name": "python",
   "nbconvert_exporter": "python",
   "pygments_lexer": "ipython3",
   "version": "3.9.12"
  },
  "orig_nbformat": 4,
  "vscode": {
   "interpreter": {
    "hash": "ca71aff40853dd846130b67975d07637ec6294bee047a07657cfc9075e3162be"
   }
  }
 },
 "nbformat": 4,
 "nbformat_minor": 2
}
