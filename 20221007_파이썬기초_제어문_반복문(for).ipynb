{
 "cells": [
  {
   "cell_type": "markdown",
   "metadata": {},
   "source": [
    "# << 제어문 >>\n",
    "\n",
    "# 2-2. for 반복문\n",
    "\n",
    "> 자료형(리스트, 튜플, 문자열)의 모든 아이템에 대하여 처음부터 마지막까지 차례대로 접근하여 실행문을 적용한다.\n",
    "\n",
    "▶ 기본 문법\n",
    "\n",
    "   * for 임시변수 in 자료형(리스트, 문자열 등) :\n",
    "\n",
    "        - 수행할 문장1\n",
    "        - 수행할 문장2\n",
    "            ...\n",
    "\n",
    "▶ 임시변수\n",
    "\n",
    "        - for 반복문이 실행되면 자료형의 아이템이 차례대로 임시변수에 할당된다.\n",
    "        - 기본적으로 변수는 할당문이 존재해야 하지만 임시변수는 할당문이 필요 없는 객체이다.\n"
   ]
  },
  {
   "cell_type": "code",
   "execution_count": 3,
   "metadata": {},
   "outputs": [
    {
     "name": "stdout",
     "output_type": "stream",
     "text": [
      "1 Hello World\n",
      "2 Hello World\n",
      "3 Hello World\n"
     ]
    }
   ],
   "source": [
    "# 하나의 아이템에 접근 : 리스트 자료형 (인덱스 존재하는 기준의 길이만큼 for 문 반복)\n",
    "a = [1,2,3]\n",
    "for i in a:\n",
    "    print(i, \"Hello World\")"
   ]
  },
  {
   "cell_type": "code",
   "execution_count": 6,
   "metadata": {},
   "outputs": [
    {
     "name": "stdout",
     "output_type": "stream",
     "text": [
      "10\n",
      "20\n",
      "30\n"
     ]
    }
   ],
   "source": [
    "# 하나의 아이템에 접근 : 튜플 자료형\n",
    "tu = 10, 20, 30\n",
    "\n",
    "# for in 문과 print 구문 이용해 10, 20, 30 을 순차적으로 찍어주세요\n",
    "for j in tu:\n",
    "    print(j)"
   ]
  },
  {
   "cell_type": "code",
   "execution_count": 11,
   "metadata": {},
   "outputs": [
    {
     "name": "stdout",
     "output_type": "stream",
     "text": [
      "a\n",
      "b\n",
      "c\n"
     ]
    }
   ],
   "source": [
    "# 하나의 아이템에 접근 : 딕셔너리 자료형\n",
    "# 딕셔너리 자료형에 대해서는 반복문 접근시 key 값 기준으로 접근됨\n",
    "# 따라서, 딕셔너리 접근은 .keys() 요소에 접근하는 것과 결과가 동일함\n",
    "d1 = {'a': 1, 'b': 2, 'c': 3}\n",
    "# 'a' in d1  True\n",
    "# 1 in d1    False\n",
    "\n",
    "for key in d1:\n",
    "    print(key)"
   ]
  },
  {
   "cell_type": "code",
   "execution_count": 12,
   "metadata": {},
   "outputs": [
    {
     "name": "stdout",
     "output_type": "stream",
     "text": [
      "a\n",
      "b\n",
      "c\n"
     ]
    }
   ],
   "source": [
    "for key in d1.keys():\n",
    "    print(key)"
   ]
  },
  {
   "cell_type": "code",
   "execution_count": 13,
   "metadata": {},
   "outputs": [
    {
     "data": {
      "text/plain": [
       "dict_items([('a', 1), ('b', 2), ('c', 3)])"
      ]
     },
     "execution_count": 13,
     "metadata": {},
     "output_type": "execute_result"
    }
   ],
   "source": [
    "# 딕셔너리에 대해서 items() 로 접근시 key, value 쌍으로 묶인 자료가 출력된다.\n",
    "d1.items()"
   ]
  },
  {
   "cell_type": "code",
   "execution_count": 19,
   "metadata": {},
   "outputs": [
    {
     "name": "stdout",
     "output_type": "stream",
     "text": [
      "('b', 2)\n",
      "<class 'tuple'>\n"
     ]
    }
   ],
   "source": [
    "list_d1 = list(d1.items())\n",
    "print(list_d1[1])\n",
    "print(type(list_d1[1]))"
   ]
  },
  {
   "cell_type": "code",
   "execution_count": 17,
   "metadata": {},
   "outputs": [
    {
     "name": "stdout",
     "output_type": "stream",
     "text": [
      "키 값: a , 밸류 값: 1\n",
      "키 값: b , 밸류 값: 2\n",
      "키 값: c , 밸류 값: 3\n"
     ]
    }
   ],
   "source": [
    "# 튜플을 대상으로 대입받을 때는 요소 개수만큼 좌변에 대입하면 나눠서 대입되는 점을 이용한 방법\n",
    "for k, v in d1.items():\n",
    "    print('키 값:', k,', ' '밸류 값:', v)"
   ]
  },
  {
   "cell_type": "markdown",
   "metadata": {},
   "source": [
    "## range 함수\n",
    "지정된 시작값과 끝값 사이의 숫자들을 자동으로 생성하여 range 객체로 반환하는 함수\n",
    "\n",
    "    - 문법 : range(시작하는 값, 끝나는 값 - 1, [간격])\n",
    "    - 특징 : 슬라이싱과 유사하게 끝나는 값은 포함되지 않는다."
   ]
  },
  {
   "cell_type": "code",
   "execution_count": 20,
   "metadata": {},
   "outputs": [
    {
     "data": {
      "text/plain": [
       "range(1, 6)"
      ]
     },
     "execution_count": 20,
     "metadata": {},
     "output_type": "execute_result"
    }
   ],
   "source": [
    "# range() 를 list 로 감싸야 변환됨. 그러나 변환되지 않아도 for 문에서 사용 가능\n",
    "range(1, 6)"
   ]
  },
  {
   "cell_type": "code",
   "execution_count": 22,
   "metadata": {},
   "outputs": [
    {
     "data": {
      "text/plain": [
       "[1, 2, 3, 4, 5, 6, 7, 8, 9]"
      ]
     },
     "execution_count": 22,
     "metadata": {},
     "output_type": "execute_result"
    }
   ],
   "source": [
    "list(range(1,10))"
   ]
  },
  {
   "cell_type": "code",
   "execution_count": 23,
   "metadata": {},
   "outputs": [
    {
     "name": "stdout",
     "output_type": "stream",
     "text": [
      "1\n",
      "2\n",
      "3\n",
      "4\n",
      "5\n"
     ]
    }
   ],
   "source": [
    "# 1 ~ 5까지 출력하기 위해 사용하는 range() 함수의 예\n",
    "for i in range(1, 6):\n",
    "    print(i)"
   ]
  },
  {
   "cell_type": "code",
   "execution_count": 24,
   "metadata": {},
   "outputs": [
    {
     "name": "stdout",
     "output_type": "stream",
     "text": [
      "0\n",
      "1\n",
      "2\n",
      "3\n",
      "4\n"
     ]
    }
   ],
   "source": [
    "# range() 의 시작값이 0 이라면 숫자를 하나만 넣는다.\n",
    "# range(숫자하나) 를 넣으면 적힌 숫자 바퀴만큼 돈다.\n",
    "for i in range(5):\n",
    "    print(i)"
   ]
  },
  {
   "cell_type": "code",
   "execution_count": 25,
   "metadata": {},
   "outputs": [
    {
     "name": "stdout",
     "output_type": "stream",
     "text": [
      "5\n",
      "4\n",
      "3\n",
      "2\n",
      "1\n"
     ]
    }
   ],
   "source": [
    "# 세 번째 숫자는 증가값이 아닌 증감값이므로 음수가 들어갈 수 있다.\n",
    "# 이 경우 시작 숫자가 목표값보다 큰 숫자에서 시작해야 한다.\n",
    "for i in range(5, 0, -1):\n",
    "    print(i)"
   ]
  },
  {
   "cell_type": "markdown",
   "metadata": {},
   "source": [
    "## 중첩 반복문\n",
    "\n",
    "- 반복문 내부에 반복문을 작성하는 것을 중첩 반복문이라고 한다.\n",
    "\n",
    "- 반복 횟수는 안쪽 반복문 * 바깥쪽 반복문\n",
    "\n",
    "- 동작 이해가 어렵기 때문에 여러번 연습!!!!!!!!!!!!!"
   ]
  },
  {
   "cell_type": "code",
   "execution_count": null,
   "metadata": {},
   "outputs": [],
   "source": [
    "# 예: 인터벌 트레이닝 좌우 5번씩 갖다 오면 1세트 > 5세트를 10번하면 = 50번 100줄"
   ]
  },
  {
   "cell_type": "code",
   "execution_count": 31,
   "metadata": {},
   "outputs": [
    {
     "name": "stdout",
     "output_type": "stream",
     "text": [
      "민님 좌로 가세요\n",
      "민님 우로 또 가세요\n",
      "민님 좌로 가세요\n",
      "민님 우로 또 가세요\n",
      "민님 좌로 가세요\n",
      "민님 우로 또 가세요\n",
      "민님 좌로 가세요\n",
      "민님 우로 또 가세요\n",
      "민님 좌로 가세요\n",
      "민님 우로 또 가세요\n",
      "한 세트 끝났습니다. 수고하셨습니다.\n"
     ]
    }
   ],
   "source": [
    "# 한 세트 도는 케이스\n",
    "for i in range(5):     \n",
    "    print(\"민님 좌로 가세요\")\n",
    "    print(\"민님 우로 또 가세요\")\n",
    "print('한 세트 끝났습니다. 수고하셨습니다.')"
   ]
  },
  {
   "cell_type": "code",
   "execution_count": 37,
   "metadata": {},
   "outputs": [
    {
     "name": "stdout",
     "output_type": "stream",
     "text": [
      "0 1 민님 좌로 가세요\n",
      "0 1 민님 우로 또 가세요\n",
      "0 2 민님 좌로 가세요\n",
      "0 2 민님 우로 또 가세요\n",
      "0 3 민님 좌로 가세요\n",
      "0 3 민님 우로 또 가세요\n",
      "0 3 한 세트 끝났습니다. 수고하셨습니다.\n",
      "1 1 민님 좌로 가세요\n",
      "1 1 민님 우로 또 가세요\n",
      "1 2 민님 좌로 가세요\n",
      "1 2 민님 우로 또 가세요\n",
      "1 3 민님 좌로 가세요\n",
      "1 3 민님 우로 또 가세요\n",
      "1 3 한 세트 끝났습니다. 수고하셨습니다.\n"
     ]
    }
   ],
   "source": [
    "for j in range(2):        # j블럭\n",
    "    for i in range(1,4):     # i블럭\n",
    "        print(j, i, \"민님 좌로 가세요\")\n",
    "        print(j, i, \"민님 우로 또 가세요\")               # 여기까지가 i 블록에 포함 되는 것\n",
    "    print(j, i, '한 세트 끝났습니다. 수고하셨습니다.')     # 이건 j 블록에 포함"
   ]
  },
  {
   "cell_type": "code",
   "execution_count": 38,
   "metadata": {},
   "outputs": [
    {
     "name": "stdout",
     "output_type": "stream",
     "text": [
      "1\n",
      "2\n"
     ]
    }
   ],
   "source": [
    "# 파이썬의 print()는 기본적으로 실행되면 자동으로 줄바꿈(커서가 아래로)이 일어난다.\n",
    "print(1)\n",
    "print(2)"
   ]
  },
  {
   "cell_type": "code",
   "execution_count": 39,
   "metadata": {},
   "outputs": [
    {
     "name": "stdout",
     "output_type": "stream",
     "text": [
      "ab"
     ]
    }
   ],
   "source": [
    "# 다음 줄로 내리지 않기 위해서는 print() 뒤에 end = \"\" 를 추가 한다\n",
    "print('a', end='')\n",
    "print('b', end='')"
   ]
  },
  {
   "cell_type": "code",
   "execution_count": 42,
   "metadata": {},
   "outputs": [
    {
     "name": "stdout",
     "output_type": "stream",
     "text": [
      "ab\n",
      "cd\n"
     ]
    }
   ],
   "source": [
    "# end='' 옵션으로 다음 줄로 안내려간 상태에서 다시 내리고 싶다면\n",
    "# 그냥 print()를 한번 더 써준다\n",
    "print('a', end='')\n",
    "# print('b', end='')\n",
    "print('b')\n",
    "# print()              # 커서를 다음 줄로 내려주세요.\n",
    "print('c', end='') \n",
    "print('d', end='') \n",
    "print()"
   ]
  },
  {
   "cell_type": "markdown",
   "metadata": {},
   "source": [
    "## 별찍기 문제풀이\n",
    "\n",
    "- 기본 별 찍기"
   ]
  },
  {
   "cell_type": "code",
   "execution_count": 2,
   "metadata": {},
   "outputs": [
    {
     "name": "stdout",
     "output_type": "stream",
     "text": [
      "*\n",
      "**\n",
      "***\n",
      "****\n"
     ]
    }
   ],
   "source": [
    "# 중첩 없는 반복문으로 푸는 방법\n",
    "# for i in range(4):\n",
    "#     print(\"*\" * (i+1), end='')\n",
    "#     print()\n",
    "    \n",
    "for i in range(1, 5):\n",
    "    print(\"*\" * i, end='')\n",
    "    print()"
   ]
  },
  {
   "cell_type": "code",
   "execution_count": null,
   "metadata": {},
   "outputs": [],
   "source": [
    "# 중첩 사용하는 혀애로 푸는 방법\n",
    "****\n",
    "****\n",
    "****\n",
    "****  # > 이걸 먼저 찍어보는게 좋음"
   ]
  },
  {
   "cell_type": "code",
   "execution_count": 3,
   "metadata": {},
   "outputs": [
    {
     "name": "stdout",
     "output_type": "stream",
     "text": [
      "****\n",
      "****\n",
      "****\n",
      "****\n"
     ]
    }
   ],
   "source": [
    "for i in range(4):\n",
    "    for j in range(4):\n",
    "        print('*', end = '')\n",
    "    print()"
   ]
  },
  {
   "cell_type": "code",
   "execution_count": 6,
   "metadata": {},
   "outputs": [
    {
     "name": "stdout",
     "output_type": "stream",
     "text": [
      "*\n",
      "**\n",
      "***\n",
      "****\n"
     ]
    }
   ],
   "source": [
    "for i in range(1, 5):\n",
    "    for j in range(i):\n",
    "        print(\"*\", end = \"\")\n",
    "    print()"
   ]
  },
  {
   "cell_type": "code",
   "execution_count": 8,
   "metadata": {},
   "outputs": [
    {
     "name": "stdout",
     "output_type": "stream",
     "text": [
      "****\n",
      "***\n",
      "**\n",
      "*\n"
     ]
    }
   ],
   "source": [
    "for i in range(4, 0, -1):\n",
    "    for j in range(i):\n",
    "        print(\"*\", end = \"\")\n",
    "    print()"
   ]
  },
  {
   "cell_type": "code",
   "execution_count": 19,
   "metadata": {},
   "outputs": [
    {
     "name": "stdout",
     "output_type": "stream",
     "text": [
      "*   \n",
      "*   \n",
      "*   \n",
      "*   \n",
      "\n",
      "*   \n",
      "*   \n",
      "*   \n",
      "\n",
      "*   \n",
      "*   \n",
      "\n",
      "*   \n",
      "\n"
     ]
    }
   ],
   "source": [
    "for i in range(4):\n",
    "    for j in range(i):\n",
    "        print(' ', end=''))"
   ]
  },
  {
   "cell_type": "markdown",
   "metadata": {},
   "source": [
    "### 연습문제\n",
    "\n",
    "- for 반복문 문제\n",
    "\n",
    "학생들의 점수가 저장되어 있는 리스트에서 50점 이상인 학생의 점수만 합한 결과를 출력하세요.\n",
    "\n",
    "[20, 55, 67, 82, 45, 33, 90, 87, 100, 25]\n"
   ]
  },
  {
   "cell_type": "code",
   "execution_count": 25,
   "metadata": {},
   "outputs": [
    {
     "name": "stdout",
     "output_type": "stream",
     "text": [
      "total :  481\n"
     ]
    }
   ],
   "source": [
    "score = [20, 55, 67, 82, 45, 33, 90, 87, 100, 25]\n",
    "total = 0\n",
    "for i in score:\n",
    "    if (i >= 50):\n",
    "        total += i\n",
    "print('total : ',total)"
   ]
  },
  {
   "cell_type": "code",
   "execution_count": 34,
   "metadata": {},
   "outputs": [
    {
     "name": "stdout",
     "output_type": "stream",
     "text": [
      "total:  481\n"
     ]
    }
   ],
   "source": [
    "score = [20, 55, 67, 82, 45, 33, 90, 87, 100, 25]\n",
    "total = []\n",
    "for i in score:\n",
    "    if (i >= 50):\n",
    "        total.append(i)\n",
    "print('total: ',sum(total))"
   ]
  },
  {
   "cell_type": "code",
   "execution_count": null,
   "metadata": {},
   "outputs": [],
   "source": []
  },
  {
   "cell_type": "code",
   "execution_count": null,
   "metadata": {},
   "outputs": [],
   "source": []
  },
  {
   "cell_type": "code",
   "execution_count": null,
   "metadata": {},
   "outputs": [],
   "source": []
  },
  {
   "cell_type": "code",
   "execution_count": null,
   "metadata": {},
   "outputs": [],
   "source": []
  },
  {
   "cell_type": "code",
   "execution_count": null,
   "metadata": {},
   "outputs": [],
   "source": []
  },
  {
   "cell_type": "code",
   "execution_count": null,
   "metadata": {},
   "outputs": [],
   "source": []
  },
  {
   "cell_type": "code",
   "execution_count": null,
   "metadata": {},
   "outputs": [],
   "source": []
  }
 ],
 "metadata": {
  "kernelspec": {
   "display_name": "Python 3.9.12 ('base')",
   "language": "python",
   "name": "python3"
  },
  "language_info": {
   "codemirror_mode": {
    "name": "ipython",
    "version": 3
   },
   "file_extension": ".py",
   "mimetype": "text/x-python",
   "name": "python",
   "nbconvert_exporter": "python",
   "pygments_lexer": "ipython3",
   "version": "3.9.12"
  },
  "orig_nbformat": 4,
  "vscode": {
   "interpreter": {
    "hash": "ca71aff40853dd846130b67975d07637ec6294bee047a07657cfc9075e3162be"
   }
  }
 },
 "nbformat": 4,
 "nbformat_minor": 2
}
