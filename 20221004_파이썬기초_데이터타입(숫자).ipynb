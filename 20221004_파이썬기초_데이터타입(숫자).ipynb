{
 "cells": [
  {
   "cell_type": "markdown",
   "id": "aefc8b05",
   "metadata": {},
   "source": [
    "## 1) 산술연산자 : 숫자를 계산하기 위한 문법 기호"
   ]
  },
  {
   "cell_type": "code",
   "execution_count": 2,
   "id": "ab7989b9",
   "metadata": {},
   "outputs": [],
   "source": [
    "# # 더하기\n",
    "# # 정수 + 정수 = 정수로 출력\n",
    "# 10 + 3\n",
    "# # 실수 + 실수 = 실수로 출력\n",
    "# 13.3 + 2.4\n",
    "# # 정수 + 실수 = 실수로 출력\n",
    "# 10 + 3.4\n"
   ]
  },
  {
   "cell_type": "code",
   "execution_count": 7,
   "id": "6664620f",
   "metadata": {},
   "outputs": [
    {
     "name": "stdout",
     "output_type": "stream",
     "text": [
      "7\n",
      "-4.7\n"
     ]
    }
   ],
   "source": [
    "# 빼기\n",
    "# 주피터 노트북은 print() 구문을 쓰지 않으면 가장 마지막 줄의 결과만 화면에 보여진다.\n",
    "# 만약 모든 줄의 결과를 화면에 보여주고 싶다면 매 구문마다 print() 구문을 써줘야 합니다. \n",
    "## 덧셈이나 뺄셈은 같은 자리에서만 할 수 있다는 걸 전제로 함\n",
    "\n",
    "print(10 - 3) \n",
    "print(3 - 7.7) \n",
    "# (3.0 - 7.7)"
   ]
  },
  {
   "cell_type": "code",
   "execution_count": 10,
   "id": "7c4ab60c",
   "metadata": {},
   "outputs": [
    {
     "name": "stdout",
     "output_type": "stream",
     "text": [
      "1.0\n",
      "3.5\n"
     ]
    }
   ],
   "source": [
    "# 나누기 : /\n",
    "# 파이썬은 정수 / 정수 = 실수로 출력\n",
    "# 자바, cpp 등의 대다수 언어는 정수/정수는 무조건 정수로 나옴\n",
    "\n",
    "print(3 / 3)\n",
    "print(7/2)"
   ]
  },
  {
   "cell_type": "code",
   "execution_count": 13,
   "id": "ba3e7272",
   "metadata": {},
   "outputs": [
    {
     "name": "stdout",
     "output_type": "stream",
     "text": [
      "12\n",
      "-15\n",
      "-17\n",
      "-5\n"
     ]
    }
   ],
   "source": [
    "# 곱하기 : *\n",
    "print(3 * 4) \n",
    "print(-3 * 5)\n",
    "\n",
    "# 파이썬에서도 사칙연산의 우선순위를 () 로 조절 할 수 있습니다.\n",
    "print(3 - 4 * 5)\n",
    "print((3-4) *5)"
   ]
  },
  {
   "cell_type": "code",
   "execution_count": 17,
   "id": "4bb76be9",
   "metadata": {},
   "outputs": [
    {
     "name": "stdout",
     "output_type": "stream",
     "text": [
      "1.25\n",
      "1\n",
      "-1.25\n",
      "-2\n"
     ]
    }
   ],
   "source": [
    "# 정수 몫만 반환: //\n",
    "# 나눗셈의 결과값보다 작은 정수중에 가장 큰 정수\n",
    "\n",
    "print(5/4)\n",
    "print(5//4)\n",
    "print(-5/4)\n",
    "print(-5//4)"
   ]
  },
  {
   "cell_type": "code",
   "execution_count": 19,
   "id": "a4557174",
   "metadata": {},
   "outputs": [
    {
     "name": "stdout",
     "output_type": "stream",
     "text": [
      "1\n",
      "-2\n"
     ]
    }
   ],
   "source": [
    "# 양수는 그냥 생각한대로 몫이 나옴\n",
    "print(4//3)\n",
    "print(4//-3)"
   ]
  },
  {
   "cell_type": "code",
   "execution_count": 22,
   "id": "44912314",
   "metadata": {},
   "outputs": [
    {
     "name": "stdout",
     "output_type": "stream",
     "text": [
      "3\n",
      "1\n",
      "2\n"
     ]
    }
   ],
   "source": [
    "# 정수 몫을 구하고 남은 나머지만 반환 : %\n",
    "print(3 % 4)\n",
    "print(4 % 3)\n",
    "print(6 % 4)"
   ]
  },
  {
   "cell_type": "code",
   "execution_count": 33,
   "id": "b9163a05",
   "metadata": {},
   "outputs": [
    {
     "name": "stdout",
     "output_type": "stream",
     "text": [
      "49\n",
      "8\n",
      "1.4142135623730951\n"
     ]
    }
   ],
   "source": [
    "# 지수 : **\n",
    "# print(7^2)\n",
    "print(7**2)\n",
    "print(2**3)\n",
    "# 제곱근, 세제곱근 등도 계산 가능\n",
    "print(2**0.5)"
   ]
  },
  {
   "cell_type": "markdown",
   "id": "ea14d117",
   "metadata": {},
   "source": [
    "## 2)비교 연산자: 자료를 비교하기 위한 문법 기호\n",
    "    - 결과가 숫자가 아니라 bool type의 결과를 가진다\n",
    "    \n",
    "> ## bool type\n",
    "    - True: 0이 아닌 숫자, 참인 조건식 등\n",
    "    - False: 0, 거짓인 조건식 등\n",
    "   \n",
    "- 값에 대한 비교(단순비교 - 모든타입) : ==, !=\n",
    "- 크기에 대한 비교(대소비교 - 숫자만) : >,<, >=,<="
   ]
  },
  {
   "cell_type": "code",
   "execution_count": 36,
   "id": "69bf1a32",
   "metadata": {},
   "outputs": [
    {
     "name": "stdout",
     "output_type": "stream",
     "text": [
      "True\n",
      "True\n",
      "False\n"
     ]
    }
   ],
   "source": [
    "# 두 값이 같은지 비교: ==\n",
    "print(0 == 0.0)\n",
    "print(1 == 1.0)\n",
    "print(type(1) == type(1.0))\n",
    "# 자료끼리는 같다고 나오지만 자료형(자료타입) 으로 비교시 다르다."
   ]
  },
  {
   "cell_type": "code",
   "execution_count": 38,
   "id": "b1ac2abe",
   "metadata": {},
   "outputs": [
    {
     "name": "stdout",
     "output_type": "stream",
     "text": [
      "False\n"
     ]
    },
    {
     "data": {
      "text/plain": [
       "True"
      ]
     },
     "execution_count": 38,
     "metadata": {},
     "output_type": "execute_result"
    }
   ],
   "source": [
    "# 두 값이 다른지 비교: !=\n",
    "# 두 값이 다르면 True, 같으면 False\n",
    "print(0 != 0.0)\n",
    "type(0) != type(0.0)"
   ]
  },
  {
   "cell_type": "code",
   "execution_count": 1,
   "id": "8afa48a6",
   "metadata": {},
   "outputs": [
    {
     "name": "stdout",
     "output_type": "stream",
     "text": [
      "False\n"
     ]
    }
   ],
   "source": [
    "# 두 값의 크기를 비교: >=, <=, <,>\n",
    "print(2 >= 3)"
   ]
  },
  {
   "cell_type": "markdown",
   "id": "ddedc918",
   "metadata": {},
   "source": [
    "## 3) 논리연산자\n",
    "\n",
    "- 여러 개의 조건식을 활용하기 위한 명령어\n",
    "- bool type 결과 반환: True, False"
   ]
  },
  {
   "cell_type": "code",
   "execution_count": 3,
   "id": "ca7594b9",
   "metadata": {},
   "outputs": [
    {
     "name": "stdout",
     "output_type": "stream",
     "text": [
      "True\n",
      "True\n",
      "False\n",
      "True\n"
     ]
    }
   ],
   "source": [
    "# and 연산자: 조건식 1 and 조건식 2\n",
    "# 조건식1과 조건식 2가 모두 True면 최종 결과는 True\n",
    "# 둘중 하나만 False 여도 최종 결과는 False\n",
    "# 둘 다 False 면 최종결과는 False\n",
    "\n",
    "print(10 < 12)\n",
    "print(10 < 12 and 0 > -3)\n",
    "print(10 < 12 and 0 > 3)\n",
    "\n",
    "print(10 < 12 or 0 > 3)"
   ]
  },
  {
   "cell_type": "code",
   "execution_count": 5,
   "id": "014ac885",
   "metadata": {},
   "outputs": [
    {
     "name": "stdout",
     "output_type": "stream",
     "text": [
      "True\n",
      "True\n",
      "False\n",
      "True\n"
     ]
    }
   ],
   "source": [
    "# bool(자료)는 해당 자료의 참, 거짓을 판단해 준다\n",
    "# 단독 숫자등도 판단이 가능하고, 0만 아니면 0외 모든 숫자는 True\n",
    "\n",
    "print(bool(10 <12))\n",
    "print(bool(10))\n",
    "print(bool(0))\n",
    "print(bool(-50))"
   ]
  },
  {
   "cell_type": "markdown",
   "id": "341ef7da",
   "metadata": {},
   "source": [
    "## 4) 할당 연산자\n",
    "\n",
    "- 변수 할당\n",
    "- 누적 연산"
   ]
  },
  {
   "cell_type": "code",
   "execution_count": 6,
   "id": "e588b456",
   "metadata": {},
   "outputs": [],
   "source": [
    "# 변수명(왼쪽)에 변수값(오른쪽)을 할당/선언/저장 : =\n",
    "# X 에 10을 대입해 주세요\n",
    "# 모든 코드는 위>아래, 왼쪽>오른쪽으로 읽으면 되는데, 단 변수할당일 경우 오른>왼쪽으로 읽는다\n",
    "\n",
    "X = 10"
   ]
  },
  {
   "cell_type": "code",
   "execution_count": 11,
   "id": "115154bf",
   "metadata": {},
   "outputs": [],
   "source": [
    "# 숫자형의 누적 합계 +=\n",
    "# result라는 변수에 누적합을 저장하기\n",
    "result = 0\n",
    "# result 에 x만큼 더해서 저장하기 위해 원래 사용하던 코드\n",
    "result = result + X\n",
    "# result = 0 + 10"
   ]
  },
  {
   "cell_type": "code",
   "execution_count": 10,
   "id": "849fb523",
   "metadata": {},
   "outputs": [
    {
     "data": {
      "text/plain": [
       "10"
      ]
     },
     "execution_count": 10,
     "metadata": {},
     "output_type": "execute_result"
    }
   ],
   "source": [
    "# result"
   ]
  },
  {
   "cell_type": "code",
   "execution_count": 12,
   "id": "35def65a",
   "metadata": {},
   "outputs": [],
   "source": [
    "# result를 한번만 쓰고도 x 만큼 더해서 저장까지 하는 코드\n",
    "result += X"
   ]
  },
  {
   "cell_type": "code",
   "execution_count": 13,
   "id": "3b400a07",
   "metadata": {},
   "outputs": [
    {
     "data": {
      "text/plain": [
       "20"
      ]
     },
     "execution_count": 13,
     "metadata": {},
     "output_type": "execute_result"
    }
   ],
   "source": [
    "result"
   ]
  },
  {
   "cell_type": "code",
   "execution_count": 14,
   "id": "dc42d117",
   "metadata": {},
   "outputs": [
    {
     "data": {
      "text/plain": [
       "19"
      ]
     },
     "execution_count": 14,
     "metadata": {},
     "output_type": "execute_result"
    }
   ],
   "source": [
    "# 숫자형의 누적 차\n",
    "result -= 1\n",
    "result"
   ]
  },
  {
   "cell_type": "code",
   "execution_count": 15,
   "id": "d4dd0cc6",
   "metadata": {},
   "outputs": [
    {
     "data": {
      "text/plain": [
       "38"
      ]
     },
     "execution_count": 15,
     "metadata": {},
     "output_type": "execute_result"
    }
   ],
   "source": [
    "# 누적곱\n",
    "# result 를 2배로 곱해서 저장해 주세요\n",
    "\n",
    "result *= 2\n",
    "result"
   ]
  },
  {
   "cell_type": "markdown",
   "id": "44189cc8",
   "metadata": {},
   "source": [
    "#### 문제풀이. 1 홍길동의 시험 성적 평균을 구하세요\n",
    "   > | 영어 80점 | 국어 72점 | 수학 90점 | 사회 66점 |\n",
    " \n",
    "* 변수를 사용해서 과목의 평균을 구해보세요\n",
    "* 출력 양식: <br>\n",
    "\n",
    "총합 308 <br>\n",
    "평균 77"
   ]
  },
  {
   "cell_type": "code",
   "execution_count": 16,
   "id": "d6563b54",
   "metadata": {},
   "outputs": [],
   "source": [
    "e = 80\n",
    "k = 72\n",
    "m = 90\n",
    "s = 66"
   ]
  },
  {
   "cell_type": "code",
   "execution_count": 31,
   "id": "ac440921",
   "metadata": {},
   "outputs": [],
   "source": [
    "total = e + k + m + s\n",
    "avg = total / 4\n",
    "# avg1 = total // 4"
   ]
  },
  {
   "cell_type": "code",
   "execution_count": 30,
   "id": "aa4366b0",
   "metadata": {},
   "outputs": [
    {
     "name": "stdout",
     "output_type": "stream",
     "text": [
      "총합  308\n",
      "평균  77.0\n"
     ]
    }
   ],
   "source": [
    "print('총합 ', total)\n",
    "print('평균 ', avg)"
   ]
  },
  {
   "cell_type": "markdown",
   "id": "fa1539f6",
   "metadata": {},
   "source": []
  },
  {
   "cell_type": "code",
   "execution_count": null,
   "id": "0413519b",
   "metadata": {},
   "outputs": [],
   "source": []
  },
  {
   "cell_type": "code",
   "execution_count": null,
   "id": "84b22758",
   "metadata": {},
   "outputs": [],
   "source": []
  },
  {
   "cell_type": "markdown",
   "id": "a8a59b73",
   "metadata": {},
   "source": []
  },
  {
   "cell_type": "code",
   "execution_count": null,
   "id": "5a44ae77",
   "metadata": {},
   "outputs": [],
   "source": []
  },
  {
   "cell_type": "code",
   "execution_count": null,
   "id": "68544214",
   "metadata": {},
   "outputs": [],
   "source": []
  },
  {
   "cell_type": "code",
   "execution_count": null,
   "id": "380d792c",
   "metadata": {},
   "outputs": [],
   "source": []
  },
  {
   "cell_type": "code",
   "execution_count": null,
   "id": "72cba18c",
   "metadata": {},
   "outputs": [],
   "source": []
  },
  {
   "cell_type": "code",
   "execution_count": null,
   "id": "7f1da160",
   "metadata": {},
   "outputs": [],
   "source": []
  },
  {
   "cell_type": "code",
   "execution_count": null,
   "id": "65c0832c",
   "metadata": {},
   "outputs": [],
   "source": []
  }
 ],
 "metadata": {
  "kernelspec": {
   "display_name": "Python 3.9.12 ('base')",
   "language": "python",
   "name": "python3"
  },
  "language_info": {
   "codemirror_mode": {
    "name": "ipython",
    "version": 3
   },
   "file_extension": ".py",
   "mimetype": "text/x-python",
   "name": "python",
   "nbconvert_exporter": "python",
   "pygments_lexer": "ipython3",
   "version": "3.9.12"
  },
  "vscode": {
   "interpreter": {
    "hash": "ca71aff40853dd846130b67975d07637ec6294bee047a07657cfc9075e3162be"
   }
  }
 },
 "nbformat": 4,
 "nbformat_minor": 5
}
