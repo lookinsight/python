{
 "cells": [
  {
   "cell_type": "markdown",
   "metadata": {},
   "source": [
    "- 문자는 계산하려는 목적은 없고, 숫자는 계산하려는 목적"
   ]
  },
  {
   "cell_type": "markdown",
   "metadata": {},
   "source": [
    "# 데이터 타입\n",
    "# 문자형\n",
    "## > 생성하기\n",
    "> 여닫는 따옴표는 반드시 문자의 앞 뒤에서 한쌍으로 완성해야 한다.\n",
    "### 1) 한 줄 문자열: ', \""
   ]
  },
  {
   "cell_type": "code",
   "execution_count": 3,
   "metadata": {},
   "outputs": [
    {
     "data": {
      "text/plain": [
       "'123'"
      ]
     },
     "execution_count": 3,
     "metadata": {},
     "output_type": "execute_result"
    }
   ],
   "source": [
    "\"123\"       # 문자열은 무조건 따옴표 안에 (여는 따옴표 - 닫는 따옴표 = 무조건 같은 종류로만 가능)"
   ]
  },
  {
   "cell_type": "code",
   "execution_count": 4,
   "metadata": {},
   "outputs": [
    {
     "ename": "SyntaxError",
     "evalue": "EOL while scanning string literal (3307909629.py, line 2)",
     "output_type": "error",
     "traceback": [
      "\u001b[1;36m  Input \u001b[1;32mIn [4]\u001b[1;36m\u001b[0m\n\u001b[1;33m    '안녕\u001b[0m\n\u001b[1;37m       ^\u001b[0m\n\u001b[1;31mSyntaxError\u001b[0m\u001b[1;31m:\u001b[0m EOL while scanning string literal\n"
     ]
    }
   ],
   "source": [
    "# 한 줄 문자열의 의미: 여는 것과 닫는 것이 같은 줄에 있어야 함\n",
    "'안녕\n",
    "반가워'"
   ]
  },
  {
   "cell_type": "code",
   "execution_count": 5,
   "metadata": {},
   "outputs": [
    {
     "name": "stdout",
     "output_type": "stream",
     "text": [
      "안녕 \n",
      "반가워\n",
      "안녕 \\n반가워\n"
     ]
    }
   ],
   "source": [
    "a = '안녕 \\n반가워'               # \\n 은 줄바꿈해도 윗줄과 연속적으로 위치 하게 해줌. 이걸 만나면 엔터를 쳐줌\n",
    "print(a)\n",
    "# 한번에 출력되는 것처럼 보이지만, 컴퓨터도 왼> 오른, 위 > 아래, 줄바꿈,  왼 > 오른쪽 으로 순차적으로 출력하는것\n",
    "\n",
    "a1 = '안녕 \\\\n반가워'             # \\n을 포함된 문자로 출력하고 싶으면 역슬래시 \\ 뒤에 \\n 써주면 됨\n",
    "print(a1)"
   ]
  },
  {
   "cell_type": "code",
   "execution_count": 6,
   "metadata": {},
   "outputs": [
    {
     "ename": "SyntaxError",
     "evalue": "invalid syntax (630758176.py, line 2)",
     "output_type": "error",
     "traceback": [
      "\u001b[1;36m  Input \u001b[1;32mIn [6]\u001b[1;36m\u001b[0m\n\u001b[1;33m    - print() 했을 때 enter(줄바꿈)이 그대로 반영되는 문자열로 처리 가능.\u001b[0m\n\u001b[1;37m              ^\u001b[0m\n\u001b[1;31mSyntaxError\u001b[0m\u001b[1;31m:\u001b[0m invalid syntax\n"
     ]
    }
   ],
   "source": [
    "### 2) 여러 줄 문자열 : ''' , \"\"\"\n",
    "- print() 했을 때 enter(줄바꿈)이 그대로 반영되는 문자열로 처리 가능.\n",
    "- 단, 화면에서 보기를 하면(print 없이 주피터노트북 결과로 보면)\n",
    "- 줄바꿈이 바로 나타나지 않고 \\n 으로 처리됨"
   ]
  },
  {
   "cell_type": "code",
   "execution_count": 7,
   "metadata": {},
   "outputs": [
    {
     "name": "stdout",
     "output_type": "stream",
     "text": [
      "안녕\n",
      "반가워\n"
     ]
    }
   ],
   "source": [
    "a = \"\"\"안녕\n",
    "반가워\"\"\"\n",
    "print(a)"
   ]
  },
  {
   "cell_type": "code",
   "execution_count": null,
   "metadata": {},
   "outputs": [],
   "source": [
    "a           # print 없이 출력하면 \\n 포함 출력됨"
   ]
  },
  {
   "cell_type": "markdown",
   "metadata": {},
   "source": [
    "### 3) 문자 속에 문자열 사용하기\n",
    "- 문자열에서 자주 쓰는 기호 : ', \""
   ]
  },
  {
   "cell_type": "code",
   "execution_count": 8,
   "metadata": {},
   "outputs": [
    {
     "ename": "SyntaxError",
     "evalue": "invalid syntax (702563836.py, line 2)",
     "output_type": "error",
     "traceback": [
      "\u001b[1;36m  Input \u001b[1;32mIn [8]\u001b[1;36m\u001b[0m\n\u001b[1;33m    a = 'She's happy.'\u001b[0m\n\u001b[1;37m             ^\u001b[0m\n\u001b[1;31mSyntaxError\u001b[0m\u001b[1;31m:\u001b[0m invalid syntax\n"
     ]
    }
   ],
   "source": [
    "# 언어, 문자에서 많이 쓰이는 기호 : she's, \"설렁탕을 사왔는데 왜 먹지를 못하니..\"\n",
    "a = 'She's happy.'\n",
    "print(a)"
   ]
  },
  {
   "cell_type": "code",
   "execution_count": 9,
   "metadata": {},
   "outputs": [
    {
     "name": "stdout",
     "output_type": "stream",
     "text": [
      "She's happy.\n"
     ]
    }
   ],
   "source": [
    "a = \"She's happy.\"\n",
    "print(a)"
   ]
  },
  {
   "cell_type": "code",
   "execution_count": 10,
   "metadata": {},
   "outputs": [
    {
     "name": "stdout",
     "output_type": "stream",
     "text": [
      "오늘은 \"미세먼지\" 좋음.\n"
     ]
    }
   ],
   "source": [
    "title = '오늘은 \"미세먼지\" 좋음.'   # shift + home (end) 키 누르면 한줄 지정 됨 \n",
    "print(title)                       # ctrl + 방향키 누르면 단어 별로 커서 이동 됨."
   ]
  },
  {
   "cell_type": "code",
   "execution_count": 11,
   "metadata": {},
   "outputs": [
    {
     "name": "stdout",
     "output_type": "stream",
     "text": [
      "He's sad.\n"
     ]
    }
   ],
   "source": [
    "# 같은 종류의 따옴표 내부에서 문자 따옴표를 쓸 때는 따옴표 왼쪽에 \\를 붙여 따옴표가 여닫는 용도로 쓰이지 않았음을 보여줘도 된다.\n",
    "b = \"He's sad.\"\n",
    "print(b)"
   ]
  },
  {
   "cell_type": "code",
   "execution_count": 12,
   "metadata": {},
   "outputs": [
    {
     "name": "stdout",
     "output_type": "stream",
     "text": [
      "\"He's sad.\"\n"
     ]
    }
   ],
   "source": [
    "b = \"\\\"He's sad.\\\"\"\n",
    "print(b)"
   ]
  },
  {
   "cell_type": "code",
   "execution_count": 13,
   "metadata": {},
   "outputs": [
    {
     "name": "stdout",
     "output_type": "stream",
     "text": [
      "aaaaaaaaaaaaaaaaaaaaaaaaaaaaaaaaaaaaaaaaaaaaa\n",
      "aaaaaaaaaaaaaaaaaaaaaaaaaaaaaaaaaaaaaaaaaaaaa\n"
     ]
    }
   ],
   "source": [
    "# 만약 문자열이 너무 길어서 보는데 불편한 경우, \\ 만 써주고 엔터로 줄을 넘기면 표기상으로는 두 줄이지만 실제 개념적으로는 한 줄로 인식되는 문자열이 된다.\n",
    "c = 'aaaaaaaaaaaaaaaaaaaaaaaaaaaaaaaaaaaaaaaaaaaaa'\n",
    "print(c)\n",
    "\n",
    "c = 'aaaaaaaaaaaaaaaaaaaaa\\\n",
    "aaaaaaaaaaaaaaaaaaaaaaaa'\n",
    "print(c)"
   ]
  },
  {
   "cell_type": "markdown",
   "metadata": {},
   "source": [
    "## <<연습문제>>\n",
    "### 1. 아래와 같은 여러 줄의 문장을 문자열로 만들어서 lines라는 변수에 할당하세요\n",
    "> 파이썬도 배우고\n",
    "> 장고도 배우고\n",
    "> 할게 너무 많아\n",
    "\n",
    "방법1) 여러 줄 문자열 활용하기 (lines 변수에 할당)\n",
    "\n",
    "방법2) 한 줄 문자열 내부에서 \\n 사이사이에 활용하기. (line 변수에 할당)"
   ]
  },
  {
   "cell_type": "code",
   "execution_count": 14,
   "metadata": {},
   "outputs": [
    {
     "name": "stdout",
     "output_type": "stream",
     "text": [
      "파이썬도 배우고\n",
      "장고도 배우고\n",
      "할게 너무 많아\n"
     ]
    }
   ],
   "source": [
    "# 여러 줄 문자열 활용\n",
    "lines = \"\"\"파이썬도 배우고\n",
    "장고도 배우고\n",
    "할게 너무 많아\"\"\"\n",
    "print(lines)"
   ]
  },
  {
   "cell_type": "code",
   "execution_count": 15,
   "metadata": {},
   "outputs": [
    {
     "name": "stdout",
     "output_type": "stream",
     "text": [
      "파이썬도 배우고\n",
      "장고도 배우고\n",
      "할게 너무 많아\n"
     ]
    }
   ],
   "source": [
    "# 한 줄 문자열 내부에서 \\n 활용\n",
    "line = \"파이썬도 배우고\\n장고도 배우고\\n할게 너무 많아\"\n",
    "print(line)"
   ]
  },
  {
   "cell_type": "markdown",
   "metadata": {},
   "source": [
    "## > 연산하기\n",
    "### 1) 산술연산자: 문자, 숫자를 함께 연산하기 위한 문법 기호\n",
    "\n",
    "- 문자와 문자를 연결\n",
    "- 동일한 문자를 반복해서 연결"
   ]
  },
  {
   "cell_type": "code",
   "execution_count": 16,
   "metadata": {},
   "outputs": [
    {
     "data": {
      "text/plain": [
       "'가나'"
      ]
     },
     "execution_count": 16,
     "metadata": {},
     "output_type": "execute_result"
    }
   ],
   "source": [
    "# 문자와 문자를 연결 : +\n",
    "'가' + '나'"
   ]
  },
  {
   "cell_type": "code",
   "execution_count": 17,
   "metadata": {},
   "outputs": [
    {
     "data": {
      "text/plain": [
       "'가 나'"
      ]
     },
     "execution_count": 17,
     "metadata": {},
     "output_type": "execute_result"
    }
   ],
   "source": [
    "# 1. 문자열 자체에 공백 추가하기('가 나'로 출력되게 만들기)\n",
    "'가 ' + '나'\n",
    "'가' + ' 나'\n",
    "'가' + ' ' + '나'"
   ]
  },
  {
   "cell_type": "code",
   "execution_count": 18,
   "metadata": {},
   "outputs": [
    {
     "ename": "TypeError",
     "evalue": "can only concatenate str (not \"int\") to str",
     "output_type": "error",
     "traceback": [
      "\u001b[1;31m---------------------------------------------------------------------------\u001b[0m",
      "\u001b[1;31mTypeError\u001b[0m                                 Traceback (most recent call last)",
      "\u001b[1;32mc:\\playpython\\20221005_파이썬기초_데이터타입(문자).ipynb 셀 22\u001b[0m in \u001b[0;36m<cell line: 4>\u001b[1;34m()\u001b[0m\n\u001b[0;32m      <a href='vscode-notebook-cell:/c%3A/playpython/20221005_%ED%8C%8C%EC%9D%B4%EC%8D%AC%EA%B8%B0%EC%B4%88_%EB%8D%B0%EC%9D%B4%ED%84%B0%ED%83%80%EC%9E%85%28%EB%AC%B8%EC%9E%90%29.ipynb#X30sZmlsZQ%3D%3D?line=1'>2</a>\u001b[0m \u001b[39m1\u001b[39m \u001b[39m+\u001b[39m \u001b[39m1.5\u001b[39m\n\u001b[0;32m      <a href='vscode-notebook-cell:/c%3A/playpython/20221005_%ED%8C%8C%EC%9D%B4%EC%8D%AC%EA%B8%B0%EC%B4%88_%EB%8D%B0%EC%9D%B4%ED%84%B0%ED%83%80%EC%9E%85%28%EB%AC%B8%EC%9E%90%29.ipynb#X30sZmlsZQ%3D%3D?line=2'>3</a>\u001b[0m \u001b[39m# 2. 문자 + 숫자 = Error (파이썬 특성)\u001b[39;00m\n\u001b[1;32m----> <a href='vscode-notebook-cell:/c%3A/playpython/20221005_%ED%8C%8C%EC%9D%B4%EC%8D%AC%EA%B8%B0%EC%B4%88_%EB%8D%B0%EC%9D%B4%ED%84%B0%ED%83%80%EC%9E%85%28%EB%AC%B8%EC%9E%90%29.ipynb#X30sZmlsZQ%3D%3D?line=3'>4</a>\u001b[0m \u001b[39m'\u001b[39;49m\u001b[39m가\u001b[39;49m\u001b[39m'\u001b[39;49m \u001b[39m+\u001b[39;49m \u001b[39m1\u001b[39;49m\n",
      "\u001b[1;31mTypeError\u001b[0m: can only concatenate str (not \"int\") to str"
     ]
    }
   ],
   "source": [
    "# 파이썬의 더하기는 양변 자료가 같거나 논리적으로 비슷하다고 인정되어야 함\n",
    "1 + 1.5\n",
    "# 2. 문자 + 숫자 = Error (파이썬 특성)\n",
    "'가' + 1 "
   ]
  },
  {
   "cell_type": "code",
   "execution_count": 19,
   "metadata": {},
   "outputs": [
    {
     "data": {
      "text/plain": [
       "'abc abc abc '"
      ]
     },
     "execution_count": 19,
     "metadata": {},
     "output_type": "execute_result"
    }
   ],
   "source": [
    "# 3. 문자를 여러 번 반복하기 : *\n",
    "# 동일한 문자열ㅇ르 여러 번 반복 연결시켜줌\n",
    "'abc' * 3\n",
    "# 'abc' + 'abc' + 'abc'\n",
    "# 'abc' + ' ' * 3\n",
    "'abc ' * 3"
   ]
  },
  {
   "cell_type": "code",
   "execution_count": 20,
   "metadata": {},
   "outputs": [
    {
     "ename": "TypeError",
     "evalue": "can't multiply sequence by non-int of type 'str'",
     "output_type": "error",
     "traceback": [
      "\u001b[1;31m---------------------------------------------------------------------------\u001b[0m",
      "\u001b[1;31mTypeError\u001b[0m                                 Traceback (most recent call last)",
      "\u001b[1;32mc:\\playpython\\20221005_파이썬기초_데이터타입(문자).ipynb 셀 24\u001b[0m in \u001b[0;36m<cell line: 2>\u001b[1;34m()\u001b[0m\n\u001b[0;32m      <a href='vscode-notebook-cell:/c%3A/playpython/20221005_%ED%8C%8C%EC%9D%B4%EC%8D%AC%EA%B8%B0%EC%B4%88_%EB%8D%B0%EC%9D%B4%ED%84%B0%ED%83%80%EC%9E%85%28%EB%AC%B8%EC%9E%90%29.ipynb#X32sZmlsZQ%3D%3D?line=0'>1</a>\u001b[0m \u001b[39m# 문자 * 문자 = Error\u001b[39;00m\n\u001b[1;32m----> <a href='vscode-notebook-cell:/c%3A/playpython/20221005_%ED%8C%8C%EC%9D%B4%EC%8D%AC%EA%B8%B0%EC%B4%88_%EB%8D%B0%EC%9D%B4%ED%84%B0%ED%83%80%EC%9E%85%28%EB%AC%B8%EC%9E%90%29.ipynb#X32sZmlsZQ%3D%3D?line=1'>2</a>\u001b[0m \u001b[39m'\u001b[39;49m\u001b[39mabc\u001b[39;49m\u001b[39m'\u001b[39;49m \u001b[39m*\u001b[39;49m \u001b[39m'\u001b[39;49m\u001b[39ma\u001b[39;49m\u001b[39m'\u001b[39;49m\n",
      "\u001b[1;31mTypeError\u001b[0m: can't multiply sequence by non-int of type 'str'"
     ]
    }
   ],
   "source": [
    "# 문자 * 문자 = Error\n",
    "'abc' * 'a'"
   ]
  },
  {
   "cell_type": "markdown",
   "metadata": {},
   "source": [
    "### 2) 비교 연산자: 문자의 크기를 비교하기 위한 문법기호\n",
    "\n",
    "> 문자의 비교\n",
    "* 대문자 vs 소문자 : 대문자 < 소문자 크기가 더 크다\n",
    "* 알파벳 : 알파벳 순서가 뒤에 있을 수록 크기가 더 크다\n",
    "* 문자 길이 : 문자열의 길이가 길 수록 크기가 더 크다. "
   ]
  },
  {
   "cell_type": "code",
   "execution_count": 21,
   "metadata": {},
   "outputs": [],
   "source": [
    "# Ascii (아스키 코드)\n",
    "# A = 65, B = 66, C = 67 ...\n",
    "# a = 97, b = 98, c = 99 ... \n",
    "# '0'(문자 0) = 48\n",
    "# 띄어쓰기 |_| = 32\n",
    "# Nul = 0"
   ]
  },
  {
   "cell_type": "code",
   "execution_count": 22,
   "metadata": {},
   "outputs": [
    {
     "data": {
      "text/plain": [
       "True"
      ]
     },
     "execution_count": 22,
     "metadata": {},
     "output_type": "execute_result"
    }
   ],
   "source": [
    "# 대문자 vs 소문자: 비교연산자(==, !=, <,>) 로 확인\n",
    "'A' < 'a'   # 65 < 97"
   ]
  },
  {
   "cell_type": "code",
   "execution_count": 23,
   "metadata": {},
   "outputs": [
    {
     "data": {
      "text/plain": [
       "False"
      ]
     },
     "execution_count": 23,
     "metadata": {},
     "output_type": "execute_result"
    }
   ],
   "source": [
    "# 문자열을 대상으로 할 때에는 무조건 첫 글자끼리만 비교한다\n",
    "# 문자열의 길이는 실제 크기 비교에 영향을 미치지 않는다.\n",
    "'b' < 'BUS'   # 98 < 66, 7x, 8x"
   ]
  },
  {
   "cell_type": "code",
   "execution_count": 24,
   "metadata": {},
   "outputs": [
    {
     "data": {
      "text/plain": [
       "True"
      ]
     },
     "execution_count": 24,
     "metadata": {},
     "output_type": "execute_result"
    }
   ],
   "source": [
    "# 만약 맨 앞글자가 같다면 다음 글자가 비교의 대상이 된다.\n",
    "'b' < 'bUS'\n",
    "# 'b' == 'bUS'"
   ]
  },
  {
   "cell_type": "code",
   "execution_count": 25,
   "metadata": {},
   "outputs": [
    {
     "data": {
      "text/plain": [
       "True"
      ]
     },
     "execution_count": 25,
     "metadata": {},
     "output_type": "execute_result"
    }
   ],
   "source": [
    "# 영문자와 영문자 이외의 다른 문자간 비교는 무조건 영문자가 작게 나온다\n",
    "# ascii code vs Unicode\n",
    "'B' < '가'"
   ]
  },
  {
   "cell_type": "code",
   "execution_count": null,
   "metadata": {},
   "outputs": [],
   "source": []
  },
  {
   "cell_type": "code",
   "execution_count": null,
   "metadata": {},
   "outputs": [],
   "source": []
  },
  {
   "cell_type": "code",
   "execution_count": null,
   "metadata": {},
   "outputs": [],
   "source": []
  },
  {
   "cell_type": "code",
   "execution_count": null,
   "metadata": {},
   "outputs": [],
   "source": []
  },
  {
   "cell_type": "code",
   "execution_count": null,
   "metadata": {},
   "outputs": [],
   "source": []
  },
  {
   "cell_type": "code",
   "execution_count": null,
   "metadata": {},
   "outputs": [],
   "source": []
  },
  {
   "cell_type": "code",
   "execution_count": null,
   "metadata": {},
   "outputs": [],
   "source": []
  },
  {
   "cell_type": "code",
   "execution_count": null,
   "metadata": {},
   "outputs": [],
   "source": []
  },
  {
   "cell_type": "code",
   "execution_count": null,
   "metadata": {},
   "outputs": [],
   "source": []
  },
  {
   "cell_type": "code",
   "execution_count": null,
   "metadata": {},
   "outputs": [],
   "source": []
  },
  {
   "cell_type": "code",
   "execution_count": null,
   "metadata": {},
   "outputs": [],
   "source": []
  },
  {
   "cell_type": "code",
   "execution_count": null,
   "metadata": {},
   "outputs": [],
   "source": []
  },
  {
   "cell_type": "code",
   "execution_count": null,
   "metadata": {},
   "outputs": [],
   "source": []
  },
  {
   "cell_type": "code",
   "execution_count": null,
   "metadata": {},
   "outputs": [],
   "source": []
  },
  {
   "cell_type": "code",
   "execution_count": null,
   "metadata": {},
   "outputs": [],
   "source": []
  },
  {
   "cell_type": "code",
   "execution_count": null,
   "metadata": {},
   "outputs": [],
   "source": []
  },
  {
   "cell_type": "code",
   "execution_count": null,
   "metadata": {},
   "outputs": [],
   "source": []
  },
  {
   "cell_type": "code",
   "execution_count": null,
   "metadata": {},
   "outputs": [],
   "source": []
  },
  {
   "cell_type": "code",
   "execution_count": null,
   "metadata": {},
   "outputs": [],
   "source": []
  },
  {
   "cell_type": "code",
   "execution_count": null,
   "metadata": {},
   "outputs": [],
   "source": []
  },
  {
   "cell_type": "code",
   "execution_count": null,
   "metadata": {},
   "outputs": [],
   "source": []
  },
  {
   "cell_type": "code",
   "execution_count": null,
   "metadata": {},
   "outputs": [],
   "source": []
  },
  {
   "cell_type": "code",
   "execution_count": null,
   "metadata": {},
   "outputs": [],
   "source": []
  },
  {
   "cell_type": "code",
   "execution_count": null,
   "metadata": {},
   "outputs": [],
   "source": []
  },
  {
   "cell_type": "code",
   "execution_count": null,
   "metadata": {},
   "outputs": [],
   "source": []
  },
  {
   "cell_type": "code",
   "execution_count": null,
   "metadata": {},
   "outputs": [],
   "source": []
  },
  {
   "cell_type": "code",
   "execution_count": null,
   "metadata": {},
   "outputs": [],
   "source": []
  },
  {
   "cell_type": "code",
   "execution_count": null,
   "metadata": {},
   "outputs": [],
   "source": []
  },
  {
   "cell_type": "code",
   "execution_count": null,
   "metadata": {},
   "outputs": [],
   "source": []
  },
  {
   "cell_type": "code",
   "execution_count": null,
   "metadata": {},
   "outputs": [],
   "source": []
  },
  {
   "cell_type": "code",
   "execution_count": null,
   "metadata": {},
   "outputs": [],
   "source": []
  },
  {
   "cell_type": "code",
   "execution_count": null,
   "metadata": {},
   "outputs": [],
   "source": []
  },
  {
   "cell_type": "code",
   "execution_count": null,
   "metadata": {},
   "outputs": [],
   "source": []
  },
  {
   "cell_type": "code",
   "execution_count": null,
   "metadata": {},
   "outputs": [],
   "source": []
  }
 ],
 "metadata": {
  "kernelspec": {
   "display_name": "Python 3.9.12 ('base')",
   "language": "python",
   "name": "python3"
  },
  "language_info": {
   "codemirror_mode": {
    "name": "ipython",
    "version": 3
   },
   "file_extension": ".py",
   "mimetype": "text/x-python",
   "name": "python",
   "nbconvert_exporter": "python",
   "pygments_lexer": "ipython3",
   "version": "3.9.12"
  },
  "orig_nbformat": 4,
  "vscode": {
   "interpreter": {
    "hash": "ca71aff40853dd846130b67975d07637ec6294bee047a07657cfc9075e3162be"
   }
  }
 },
 "nbformat": 4,
 "nbformat_minor": 2
}
