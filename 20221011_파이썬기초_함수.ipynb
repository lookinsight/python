{
 "cells": [
  {
   "cell_type": "markdown",
   "metadata": {},
   "source": [
    "# << 함수 >>\n",
    "- 반복적으로 사용하는 기능을 묶어서 함수로 정의하면 간편하게 사용할 수 있다.\n",
    "\n",
    "▷ 기본 문법:\n",
    "        * def 함수이름(매개변수):\n",
    "\n",
    "             <수행할 내용1>\n",
    "             <수행할 내용2>\n",
    "             <수행할 내용3>\n",
    "             return\n",
    "\n",
    "▷ 매개변수\n",
    "\n",
    "        - 함수 안에서 사용할 값을 전달하는 변수로 <수행할 내용> 문장에서 변수로 사용된다.\n",
    "        - 함수 정의문에서는 매개변수로서 선언되며 실제로 함수를 호출할 때는 인자값으로 전달된다.\n",
    "\n",
    "▷ 용어\n",
    "\n",
    "        - def : 함수를 정의할 때 사용하는 키워드\n",
    "        - return : 함수의 결과값을 반환하는 키워드\n",
    "        - 입력값 = 인수, 입력 인수, 인자\n",
    "        - 결과값 = 출력값, 리턴값, 돌려주는 값, 반환 값"
   ]
  },
  {
   "cell_type": "code",
   "execution_count": 1,
   "metadata": {},
   "outputs": [],
   "source": [
    "# 기본적인 함수의 예제(완전한 실행문)\n",
    "def digut():\n",
    "    print('팔을 얼굴앞으로')\n",
    "    print(\"관절을 역으로 꺾고\")\n",
    "    print(\"디귿자 모양으로 만든다.\") "
   ]
  },
  {
   "cell_type": "code",
   "execution_count": 2,
   "metadata": {},
   "outputs": [
    {
     "name": "stdout",
     "output_type": "stream",
     "text": [
      "팔을 얼굴앞으로\n",
      "관절을 역으로 꺾고\n",
      "디귿자 모양으로 만든다.\n"
     ]
    }
   ],
   "source": [
    "print('팔을 얼굴앞으로')\n",
    "print(\"관절을 역으로 꺾고\")\n",
    "print(\"디귿자 모양으로 만든다.\")"
   ]
  },
  {
   "cell_type": "code",
   "execution_count": 3,
   "metadata": {},
   "outputs": [
    {
     "name": "stdout",
     "output_type": "stream",
     "text": [
      "팔을 얼굴앞으로\n",
      "관절을 역으로 꺾고\n",
      "디귿자 모양으로 만든다.\n"
     ]
    }
   ],
   "source": [
    "digut()"
   ]
  },
  {
   "cell_type": "code",
   "execution_count": 13,
   "metadata": {},
   "outputs": [],
   "source": [
    "# 기본적인 함수의 예제(불완전한 실행문)\n",
    "def plus(a):\n",
    "    print(a + 1)"
   ]
  },
  {
   "cell_type": "code",
   "execution_count": 5,
   "metadata": {},
   "outputs": [
    {
     "ename": "TypeError",
     "evalue": "plus() missing 1 required positional argument: 'a'",
     "output_type": "error",
     "traceback": [
      "\u001b[1;31m---------------------------------------------------------------------------\u001b[0m",
      "\u001b[1;31mTypeError\u001b[0m                                 Traceback (most recent call last)",
      "\u001b[1;32mc:\\playpython\\20221011_파이썬기초_함수.ipynb 셀 6\u001b[0m in \u001b[0;36m<cell line: 1>\u001b[1;34m()\u001b[0m\n\u001b[1;32m----> <a href='vscode-notebook-cell:/c%3A/playpython/20221011_%ED%8C%8C%EC%9D%B4%EC%8D%AC%EA%B8%B0%EC%B4%88_%ED%95%A8%EC%88%98.ipynb#W5sZmlsZQ%3D%3D?line=0'>1</a>\u001b[0m plus()\n",
      "\u001b[1;31mTypeError\u001b[0m: plus() missing 1 required positional argument: 'a'"
     ]
    }
   ],
   "source": [
    "plus()"
   ]
  },
  {
   "cell_type": "code",
   "execution_count": 6,
   "metadata": {},
   "outputs": [
    {
     "name": "stdout",
     "output_type": "stream",
     "text": [
      "6\n"
     ]
    }
   ],
   "source": [
    "plus(5)"
   ]
  },
  {
   "cell_type": "code",
   "execution_count": 11,
   "metadata": {},
   "outputs": [],
   "source": [
    "def plus():\n",
    "    print(a + 1)"
   ]
  },
  {
   "cell_type": "code",
   "execution_count": 8,
   "metadata": {},
   "outputs": [
    {
     "ename": "NameError",
     "evalue": "name 'a' is not defined",
     "output_type": "error",
     "traceback": [
      "\u001b[1;31m---------------------------------------------------------------------------\u001b[0m",
      "\u001b[1;31mNameError\u001b[0m                                 Traceback (most recent call last)",
      "\u001b[1;32mc:\\playpython\\20221011_파이썬기초_함수.ipynb 셀 9\u001b[0m in \u001b[0;36m<cell line: 1>\u001b[1;34m()\u001b[0m\n\u001b[1;32m----> <a href='vscode-notebook-cell:/c%3A/playpython/20221011_%ED%8C%8C%EC%9D%B4%EC%8D%AC%EA%B8%B0%EC%B4%88_%ED%95%A8%EC%88%98.ipynb#X11sZmlsZQ%3D%3D?line=0'>1</a>\u001b[0m plus()\n",
      "\u001b[1;32mc:\\playpython\\20221011_파이썬기초_함수.ipynb 셀 9\u001b[0m in \u001b[0;36mplus\u001b[1;34m()\u001b[0m\n\u001b[0;32m      <a href='vscode-notebook-cell:/c%3A/playpython/20221011_%ED%8C%8C%EC%9D%B4%EC%8D%AC%EA%B8%B0%EC%B4%88_%ED%95%A8%EC%88%98.ipynb#X11sZmlsZQ%3D%3D?line=0'>1</a>\u001b[0m \u001b[39mdef\u001b[39;00m \u001b[39mplus\u001b[39m():\n\u001b[1;32m----> <a href='vscode-notebook-cell:/c%3A/playpython/20221011_%ED%8C%8C%EC%9D%B4%EC%8D%AC%EA%B8%B0%EC%B4%88_%ED%95%A8%EC%88%98.ipynb#X11sZmlsZQ%3D%3D?line=1'>2</a>\u001b[0m     \u001b[39mprint\u001b[39m(a \u001b[39m+\u001b[39m \u001b[39m1\u001b[39m)\n",
      "\u001b[1;31mNameError\u001b[0m: name 'a' is not defined"
     ]
    }
   ],
   "source": [
    "plus()"
   ]
  },
  {
   "cell_type": "code",
   "execution_count": 9,
   "metadata": {},
   "outputs": [
    {
     "ename": "NameError",
     "evalue": "name 'plus2' is not defined",
     "output_type": "error",
     "traceback": [
      "\u001b[1;31m---------------------------------------------------------------------------\u001b[0m",
      "\u001b[1;31mNameError\u001b[0m                                 Traceback (most recent call last)",
      "\u001b[1;32mc:\\playpython\\20221011_파이썬기초_함수.ipynb 셀 10\u001b[0m in \u001b[0;36m<cell line: 1>\u001b[1;34m()\u001b[0m\n\u001b[1;32m----> <a href='vscode-notebook-cell:/c%3A/playpython/20221011_%ED%8C%8C%EC%9D%B4%EC%8D%AC%EA%B8%B0%EC%B4%88_%ED%95%A8%EC%88%98.ipynb#X60sZmlsZQ%3D%3D?line=0'>1</a>\u001b[0m plus2()\n",
      "\u001b[1;31mNameError\u001b[0m: name 'plus2' is not defined"
     ]
    }
   ],
   "source": [
    "plus2()"
   ]
  },
  {
   "cell_type": "markdown",
   "metadata": {},
   "source": [
    "#### ◩ 함수의 메모리 구조로 이해하기\n",
    "\n",
    "def plus(a):\n",
    "    print(a + 1) 이란 함수가 있다고 하면\n",
    "\n",
    "plus(\"함수 끝나면 )\n",
    "6\n",
    "\n",
    "\n",
    "[왼쪽 - 스택]            [오른쪽 - 힙]\n",
    "\n",
    "plus 구역\n",
    "안에 a=(5)              plus(정의) 힙에 먼저 저장 - 호출할 수 있는 상태가 됨\n",
    "함수 출력되고 스택에서 지워짐\n",
    "그리고 다시 def 위치로가서 출력할게 있는지 보고\n"
   ]
  },
  {
   "cell_type": "code",
   "execution_count": null,
   "metadata": {},
   "outputs": [],
   "source": [
    "# 함수 내부에 선언된 변수는 함수 외부에서 호출할 수 없습니다.\n",
    "# 함수나 기타 블록 내부에 선언된 변수를 \"지역변수\" 라고 부른다.\n",
    "# 지역화폐가 해당 지역내에서만 통용되듯, 지역변수도 다른 지역에서 호출할 수 없다.\n",
    "print(a)"
   ]
  },
  {
   "cell_type": "code",
   "execution_count": 14,
   "metadata": {},
   "outputs": [
    {
     "name": "stdout",
     "output_type": "stream",
     "text": [
      "6\n",
      "None\n"
     ]
    }
   ],
   "source": [
    "# plus를 호출했을때, a + 1 이 콘솔에 찍힌다.\n",
    "# print(plus(5)) => 몇이 찍힐까?\n",
    "print(plus(5))"
   ]
  },
  {
   "cell_type": "code",
   "execution_count": 15,
   "metadata": {},
   "outputs": [],
   "source": [
    "# return 구문은, 함수 내 마지막 지점에 사용할 수 있다.\n",
    "# return 구문이 실행되면, 함수가 종료되며 동시에 해당 함수의 결과값이 호출한 위치에 할당된다.\n",
    "def plus2(a):\n",
    "    return a + 1"
   ]
  },
  {
   "cell_type": "code",
   "execution_count": 16,
   "metadata": {},
   "outputs": [
    {
     "name": "stdout",
     "output_type": "stream",
     "text": [
      "6\n",
      "None\n",
      "first func\n",
      "6\n",
      "second func\n"
     ]
    }
   ],
   "source": [
    "print(plus(5))\n",
    "print(\"first func\")\n",
    "print(plus2(5))\n",
    "print(\"second func\")"
   ]
  },
  {
   "cell_type": "markdown",
   "metadata": {},
   "source": [
    "### (참고) 매개변수와 인수\n",
    "#### 매개변수(parameter, 입력인자, 입력값)\n",
    "    - 함수에 전달 된 값을 저장하는 변수 / 함수를 선언할 때 정의하는 변수\n",
    "#### 인수 / 인자 (argument)\n",
    "    - 함수를 호출( = 사용)할 때 전달하는 입력 값"
   ]
  },
  {
   "cell_type": "code",
   "execution_count": 17,
   "metadata": {},
   "outputs": [],
   "source": [
    "# 매개변수를 2개 이상 받는 케이스\n",
    "# sum_func 이라는 이름으로 함수를 선언하기\n",
    "# 이 함수는 num1, num2 2개 변수 입력받고 둘을 합산한 값을 리턴\n",
    "\n",
    "def sum_func(num1, num2):          # 스네이크 케이스?\n",
    "    return(num1 + num2)\n",
    "\n",
    "# def sum_func(num1, num2):\n",
    "#     result = (num1 + num2)\n",
    "#     return result                 > 이렇게 하면 더 깔끔?"
   ]
  },
  {
   "cell_type": "code",
   "execution_count": 18,
   "metadata": {},
   "outputs": [
    {
     "name": "stdout",
     "output_type": "stream",
     "text": [
      "7\n"
     ]
    }
   ],
   "source": [
    "print(sum_func(2, 5))"
   ]
  },
  {
   "cell_type": "markdown",
   "metadata": {},
   "source": [
    "### 2. 매개변수 있는 함수\n",
    "\n",
    "    - 인자값을 전달 할 때 값만 입력하면 순서대로 매개변수에 할당된다.\n",
    "    - 매개변수명을 지정하여 전달할 수 있다."
   ]
  },
  {
   "cell_type": "code",
   "execution_count": 25,
   "metadata": {},
   "outputs": [],
   "source": [
    "# 매개변수가 3개인 함수를 설정하기\n",
    "# 매개변수명 3개는 자율적으로 만들어 주기\n",
    "# print() 로 매개변수 3개 뭐였는지 콘솔에 찍은 ㄷ음\n",
    "# result 변수에 3개 합을 저장한 뒤 리턴\n",
    "# 함수명은 test1 \n",
    "def test1(n1, n2, n3):\n",
    "    print(n1, n2, n3)\n",
    "    result = (n1 + n2 + n3)\n",
    "    return result"
   ]
  },
  {
   "cell_type": "code",
   "execution_count": 26,
   "metadata": {},
   "outputs": [
    {
     "name": "stdout",
     "output_type": "stream",
     "text": [
      "1 2 3\n",
      "합 : 6\n"
     ]
    }
   ],
   "source": [
    "print('합 :', test1(1,2,3))"
   ]
  },
  {
   "cell_type": "code",
   "execution_count": 27,
   "metadata": {},
   "outputs": [
    {
     "name": "stdout",
     "output_type": "stream",
     "text": [
      "10 4 20\n"
     ]
    },
    {
     "data": {
      "text/plain": [
       "34"
      ]
     },
     "execution_count": 27,
     "metadata": {},
     "output_type": "execute_result"
    }
   ],
   "source": [
    "# 매개변수에 순서를 다르게 전달하고 싶으면 매개변수를 지목해 값을 대입한다\n",
    "test1(n2 = 4, n1 = 10, n3 = 20)"
   ]
  },
  {
   "cell_type": "markdown",
   "metadata": {},
   "source": [
    "### 2-1. 매개변수 초기값 설정\n",
    "\n",
    "    - 함수 정의문에서 매개변수 값을 할당하면 초기 값으로 설정\n",
    "    - 함수 호출시 값을 입력하지 않으면 초기 값으로 사용\n",
    "    - 초기화시키고 싶은 매개변수들을 항상 뒤쪽에 위치\n",
    "\n",
    "    (참고) 포매팅함수에서 인덱스 번호, 변수명 사용했던 규칙과 유사"
   ]
  },
  {
   "cell_type": "code",
   "execution_count": 31,
   "metadata": {},
   "outputs": [],
   "source": [
    "# 디폴트값 선언을 사용한 예시\n",
    "def test2(a = 1, b = 2, c = 3):\n",
    "    result = a + b + c\n",
    "    return result"
   ]
  },
  {
   "cell_type": "code",
   "execution_count": 38,
   "metadata": {},
   "outputs": [
    {
     "name": "stdout",
     "output_type": "stream",
     "text": [
      "6\n"
     ]
    }
   ],
   "source": [
    "print(test2())"
   ]
  },
  {
   "cell_type": "code",
   "execution_count": 37,
   "metadata": {},
   "outputs": [
    {
     "data": {
      "text/plain": [
       "12"
      ]
     },
     "execution_count": 37,
     "metadata": {},
     "output_type": "execute_result"
    }
   ],
   "source": [
    "test2(3,4,5)               # 디폴트값보다 새로 입력해 주는 값이 우선함"
   ]
  },
  {
   "cell_type": "code",
   "execution_count": 39,
   "metadata": {},
   "outputs": [
    {
     "data": {
      "text/plain": [
       "14"
      ]
     },
     "execution_count": 39,
     "metadata": {},
     "output_type": "execute_result"
    }
   ],
   "source": [
    "test2(9)                   # 매개변수중 1개 변수에만 새로운 값 입력해 줘도 됨. 디폴트값이 있으니까"
   ]
  },
  {
   "cell_type": "code",
   "execution_count": 43,
   "metadata": {},
   "outputs": [
    {
     "data": {
      "text/plain": [
       "33"
      ]
     },
     "execution_count": 43,
     "metadata": {},
     "output_type": "execute_result"
    }
   ],
   "source": [
    "test2(10, 20)"
   ]
  },
  {
   "cell_type": "code",
   "execution_count": 42,
   "metadata": {},
   "outputs": [
    {
     "ename": "SyntaxError",
     "evalue": "non-default argument follows default argument (1879388595.py, line 2)",
     "output_type": "error",
     "traceback": [
      "\u001b[1;36m  Input \u001b[1;32mIn [42]\u001b[1;36m\u001b[0m\n\u001b[1;33m    def test3(a, b = 2, c):\u001b[0m\n\u001b[1;37m                         ^\u001b[0m\n\u001b[1;31mSyntaxError\u001b[0m\u001b[1;31m:\u001b[0m non-default argument follows default argument\n"
     ]
    }
   ],
   "source": [
    "# 디폴트값 선언을 사용한 예시 디폴트 1개만 가능할까?\n",
    "def test3(a, b=2, c):\n",
    "    result = a + b + c\n",
    "    return result"
   ]
  },
  {
   "cell_type": "code",
   "execution_count": 44,
   "metadata": {},
   "outputs": [
    {
     "ename": "SyntaxError",
     "evalue": "non-default argument follows default argument (1870237708.py, line 2)",
     "output_type": "error",
     "traceback": [
      "\u001b[1;36m  Input \u001b[1;32mIn [44]\u001b[1;36m\u001b[0m\n\u001b[1;33m    def test4(a=0, b=1, c):\u001b[0m\n\u001b[1;37m                         ^\u001b[0m\n\u001b[1;31mSyntaxError\u001b[0m\u001b[1;31m:\u001b[0m non-default argument follows default argument\n"
     ]
    }
   ],
   "source": [
    "# 디폴트값 설정은 반드시 오른쪽 요소부터 지정한다.\n",
    "def test4(a=0, b=1, c):\n",
    "    result = a + b + c\n",
    "    return result"
   ]
  },
  {
   "cell_type": "code",
   "execution_count": 47,
   "metadata": {},
   "outputs": [],
   "source": [
    "def test4(a, b=1, c=0):           # > 이렇게 하면 가능\n",
    "    result = a + b + c\n",
    "    return result"
   ]
  },
  {
   "cell_type": "code",
   "execution_count": 45,
   "metadata": {},
   "outputs": [],
   "source": [
    "# 디폴트값 설정은 반드시 오른쪽 요소부터 지정한다.\n",
    "def test5(a=None, b=1, c=None):\n",
    "    result = a + b + c\n",
    "    return result"
   ]
  },
  {
   "cell_type": "code",
   "execution_count": 46,
   "metadata": {},
   "outputs": [
    {
     "data": {
      "text/plain": [
       "8"
      ]
     },
     "execution_count": 46,
     "metadata": {},
     "output_type": "execute_result"
    }
   ],
   "source": [
    "test5(1,3, 4)"
   ]
  },
  {
   "cell_type": "markdown",
   "metadata": {},
   "source": [
    "### 가변인자 리스트\n",
    "\n",
    "    - 입력할 파라미터 갯수가 몇 개인지 모를 때 사용\n",
    "    - 파라미터명 왼쪽에 *을 붙인다"
   ]
  },
  {
   "cell_type": "code",
   "execution_count": 53,
   "metadata": {},
   "outputs": [
    {
     "name": "stdout",
     "output_type": "stream",
     "text": [
      "이승민 1 300 asdf \"\"\" skdfj\n"
     ]
    }
   ],
   "source": [
    "print('이승민', 1, 300, 'asdf', '\"\"\"', 'skdfj')"
   ]
  },
  {
   "cell_type": "code",
   "execution_count": 51,
   "metadata": {},
   "outputs": [],
   "source": [
    "def new_print(p1=\"\", p2=\"\", p3=\"\", p4=\"\"):\n",
    "    return (\"%s%s%s%s\" % (p1, p2, p3, p4))"
   ]
  },
  {
   "cell_type": "code",
   "execution_count": 52,
   "metadata": {},
   "outputs": [
    {
     "ename": "TypeError",
     "evalue": "new_print() takes from 0 to 4 positional arguments but 5 were given",
     "output_type": "error",
     "traceback": [
      "\u001b[1;31m---------------------------------------------------------------------------\u001b[0m",
      "\u001b[1;31mTypeError\u001b[0m                                 Traceback (most recent call last)",
      "\u001b[1;32mc:\\playpython\\20221011_파이썬기초_함수.ipynb 셀 37\u001b[0m in \u001b[0;36m<cell line: 1>\u001b[1;34m()\u001b[0m\n\u001b[1;32m----> <a href='vscode-notebook-cell:/c%3A/playpython/20221011_%ED%8C%8C%EC%9D%B4%EC%8D%AC%EA%B8%B0%EC%B4%88_%ED%95%A8%EC%88%98.ipynb#X45sZmlsZQ%3D%3D?line=0'>1</a>\u001b[0m new_print(\u001b[39m'\u001b[39;49m\u001b[39m가나다\u001b[39;49m\u001b[39m'\u001b[39;49m, \u001b[39m123\u001b[39;49m, \u001b[39m\"\u001b[39;49m\u001b[39mzxc\u001b[39;49m\u001b[39m\"\u001b[39;49m, \u001b[39m\"\u001b[39;49m\u001b[39mureto\u001b[39;49m\u001b[39m\"\u001b[39;49m, \u001b[39m\"\u001b[39;49m\u001b[39mrlksjdf\u001b[39;49m\u001b[39m\"\u001b[39;49m)\n",
      "\u001b[1;31mTypeError\u001b[0m: new_print() takes from 0 to 4 positional arguments but 5 were given"
     ]
    }
   ],
   "source": [
    "new_print('가나다', 123, \"zxc\", \"ureto\", \"rlksjdf\")"
   ]
  },
  {
   "cell_type": "code",
   "execution_count": 57,
   "metadata": {},
   "outputs": [],
   "source": [
    "def get_member_list(p1):\n",
    "    print(\"출석학생은 %s 입니다.\" % p1)"
   ]
  },
  {
   "cell_type": "code",
   "execution_count": 58,
   "metadata": {},
   "outputs": [
    {
     "name": "stdout",
     "output_type": "stream",
     "text": [
      "출석학생은 이승민 입니다.\n"
     ]
    }
   ],
   "source": [
    "get_member_list('이승민')"
   ]
  },
  {
   "cell_type": "code",
   "execution_count": 59,
   "metadata": {},
   "outputs": [],
   "source": [
    "def get_member_list2(p1, p2):\n",
    "    print(\"출석학생은 %s님, %s님 입니다.\" % (p1, p2))"
   ]
  },
  {
   "cell_type": "code",
   "execution_count": 60,
   "metadata": {},
   "outputs": [
    {
     "name": "stdout",
     "output_type": "stream",
     "text": [
      "출석학생은 파이썬님, 자바님 입니다.\n"
     ]
    }
   ],
   "source": [
    "get_member_list2('파이썬', '자바')"
   ]
  },
  {
   "cell_type": "code",
   "execution_count": 65,
   "metadata": {},
   "outputs": [],
   "source": [
    "def get_members(*stu):\n",
    "    print(stu)\n",
    "    print(type(stu))"
   ]
  },
  {
   "cell_type": "code",
   "execution_count": 66,
   "metadata": {},
   "outputs": [
    {
     "name": "stdout",
     "output_type": "stream",
     "text": [
      "('가', '나', '다', '라', '마', '바', '사', '아', '자', '차')\n",
      "<class 'tuple'>\n"
     ]
    }
   ],
   "source": [
    "get_members('가','나','다','라','마','바','사','아','자', '차')"
   ]
  },
  {
   "cell_type": "code",
   "execution_count": 64,
   "metadata": {},
   "outputs": [
    {
     "name": "stdout",
     "output_type": "stream",
     "text": [
      "()\n"
     ]
    }
   ],
   "source": [
    "get_members()            # 변수 넣지 않아도 "
   ]
  },
  {
   "cell_type": "code",
   "execution_count": 89,
   "metadata": {},
   "outputs": [],
   "source": [
    "# 가변 파라미터(*변수명)을 이용해서 학생들의 점수를 입력받는대로 다 저장했다가 \n",
    "# 총점을 얻어서 평균값을 구해 리턴하도록 코드를 작성해라\n",
    "\n",
    "# score에 몇 개건 모든 데이터를 다 때려 넣음\n",
    "def get_average(*score):\n",
    "    # 들어온 데이터 체크\n",
    "    print(score)\n",
    "    # 총점 집계를 위해 total 변수 생성 및 0대입\n",
    "    total = 0\n",
    "    # score 에 있는 모든 점수를 score 에 번갈아가면서 대입\n",
    "    for s in score:\n",
    "        # 개별 점수를 total 에 더해서 누적\n",
    "        total += int(s)\n",
    "        # 평균은 총점 / 더한 횟수, score 내부 자료 갯수만큼 총점을 나누면 평균이 나옴\n",
    "    # return (total/len(score))\n",
    "    return \"총점: %s, 평균: %s\" % (total, total / len(score)) "
   ]
  },
  {
   "cell_type": "code",
   "execution_count": 90,
   "metadata": {},
   "outputs": [
    {
     "name": "stdout",
     "output_type": "stream",
     "text": [
      "(99, 100, 88, 77, 65, 78)\n"
     ]
    },
    {
     "data": {
      "text/plain": [
       "'총점: 507, 평균: 84.5'"
      ]
     },
     "execution_count": 90,
     "metadata": {},
     "output_type": "execute_result"
    }
   ],
   "source": [
    "get_average(99, 100, 88, 77, 65, 78)"
   ]
  },
  {
   "cell_type": "markdown",
   "metadata": {},
   "source": [
    "### 6. 키워드 파라미터 kwargs(keyword arguments)\n",
    "\n",
    "    - 딕셔너리 형태로 저장되는 매개변수로 정의"
   ]
  },
  {
   "cell_type": "code",
   "execution_count": 91,
   "metadata": {},
   "outputs": [],
   "source": [
    "# ** 두개 붙으면 딕셔너리 형태로 가변인자를 받는다\n",
    "# 이 경우, 변수명 = 값 형식으로 호출해야 전달\n",
    "def test(**kwargs):\n",
    "    return kwargs"
   ]
  },
  {
   "cell_type": "code",
   "execution_count": 93,
   "metadata": {},
   "outputs": [
    {
     "data": {
      "text/plain": [
       "{'name': '홍길동', 'age': 19, 'gender': 'm'}"
      ]
     },
     "execution_count": 93,
     "metadata": {},
     "output_type": "execute_result"
    }
   ],
   "source": [
    "test(name = '홍길동', age = 19, gender = 'm')"
   ]
  },
  {
   "cell_type": "code",
   "execution_count": null,
   "metadata": {},
   "outputs": [],
   "source": []
  },
  {
   "cell_type": "code",
   "execution_count": 95,
   "metadata": {},
   "outputs": [],
   "source": [
    "# return 키워드는 전닫받은 결과들을 하나의 '튜플' 로 묶어서 반환\n",
    "# 최종적으로 '하나의 변수' 에 담을 수 있는 '하나의 값'으로 처리된다.\n",
    "def test(a, b):\n",
    "    sum_ = a + b\n",
    "    mul = a * b\n",
    "    return sum_, mul       # () 가 생략된 형태라고 생각하면 됨. 튜플은 생략해도 되니까"
   ]
  },
  {
   "cell_type": "code",
   "execution_count": 96,
   "metadata": {},
   "outputs": [
    {
     "name": "stdout",
     "output_type": "stream",
     "text": [
      "(7, 12)\n"
     ]
    }
   ],
   "source": [
    "# 결과를 통째로 가져오기\n",
    "a = test(3, 4)\n",
    "print(a)"
   ]
  },
  {
   "cell_type": "code",
   "execution_count": 98,
   "metadata": {},
   "outputs": [
    {
     "name": "stdout",
     "output_type": "stream",
     "text": [
      "11\n",
      "30\n"
     ]
    }
   ],
   "source": [
    "# 결과를 개별 변수에 쪼개서 가져오기\n",
    "# 튜플 리턴시 좌변에 튜플 내부요소 개수만큼 변수를 선언하면 따로따로 저장 받는다\n",
    "s, m = test(5, 6)\n",
    "print(s)                      # sum_\n",
    "print(m)                      # mul"
   ]
  },
  {
   "cell_type": "code",
   "execution_count": null,
   "metadata": {},
   "outputs": [],
   "source": []
  },
  {
   "cell_type": "code",
   "execution_count": 106,
   "metadata": {},
   "outputs": [],
   "source": [
    "def postive_list(*i):\n",
    "    # 양수를 적재할 빈 리스트\n",
    "    plus = []\n",
    "    # i 내부에 있던 숫자들을 순차적으로 p 에 대입해 검사\n",
    "    for p in i:\n",
    "        # 현재 대입된 숫자가 0보다 크면\n",
    "        if p > 0:\n",
    "            plus.append(p)\n",
    "    # 리스트 리턴\n",
    "    return plus"
   ]
  },
  {
   "cell_type": "code",
   "execution_count": 107,
   "metadata": {},
   "outputs": [
    {
     "data": {
      "text/plain": [
       "[8, 9, 7, 10]"
      ]
     },
     "execution_count": 107,
     "metadata": {},
     "output_type": "execute_result"
    }
   ],
   "source": [
    "postive_list(-10, 8, 9, 7, -7, 0, 10)"
   ]
  },
  {
   "cell_type": "code",
   "execution_count": null,
   "metadata": {},
   "outputs": [],
   "source": []
  },
  {
   "cell_type": "code",
   "execution_count": null,
   "metadata": {},
   "outputs": [],
   "source": []
  }
 ],
 "metadata": {
  "kernelspec": {
   "display_name": "Python 3.9.12 ('base')",
   "language": "python",
   "name": "python3"
  },
  "language_info": {
   "codemirror_mode": {
    "name": "ipython",
    "version": 3
   },
   "file_extension": ".py",
   "mimetype": "text/x-python",
   "name": "python",
   "nbconvert_exporter": "python",
   "pygments_lexer": "ipython3",
   "version": "3.9.12"
  },
  "orig_nbformat": 4,
  "vscode": {
   "interpreter": {
    "hash": "ca71aff40853dd846130b67975d07637ec6294bee047a07657cfc9075e3162be"
   }
  }
 },
 "nbformat": 4,
 "nbformat_minor": 2
}
